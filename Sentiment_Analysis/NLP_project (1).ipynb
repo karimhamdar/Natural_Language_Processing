{
  "nbformat": 4,
  "nbformat_minor": 0,
  "metadata": {
    "colab": {
      "provenance": []
    },
    "kernelspec": {
      "name": "python3",
      "display_name": "Python 3"
    },
    "language_info": {
      "name": "python"
    }
  },
  "cells": [
    {
      "cell_type": "markdown",
      "source": [
        "## **Libraries**"
      ],
      "metadata": {
        "id": "DajtM15A6Cl8"
      }
    },
    {
      "cell_type": "code",
      "source": [
        "import pandas as pd\n",
        "import matplotlib.pyplot as plt\n",
        "\n",
        "from sklearn.model_selection import train_test_split\n",
        "from sklearn.utils import resample\n",
        "from sklearn.feature_extraction.text import TfidfVectorizer\n",
        "from sklearn.linear_model import LogisticRegression\n",
        "from sklearn.metrics import accuracy_score, classification_report, precision_recall_fscore_support\n",
        "from sklearn.feature_extraction.text import CountVectorizer\n",
        "from sklearn.pipeline import make_pipeline\n",
        "from sklearn.model_selection import GridSearchCV\n",
        "\n",
        "from imblearn.over_sampling import RandomOverSampler\n",
        "\n",
        "from google.colab import drive\n",
        "from google.colab import files\n",
        "\n",
        "import string\n",
        "import re\n",
        "\n",
        "import subprocess\n",
        "import sys\n",
        "\n",
        "import nltk\n",
        "from nltk.tokenize import word_tokenize\n",
        "from nltk.corpus import stopwords\n",
        "from nltk.stem import WordNetLemmatizer\n",
        "\n",
        "nltk.download('punkt')\n",
        "nltk.download('stopwords')\n",
        "nltk.download('wordnet')\n",
        "\n",
        "subprocess.check_call([sys.executable, '-m', 'pip', 'install', 'transformers'])\n",
        "subprocess.check_call([sys.executable, '-m', 'pip', 'install', 'torch'])\n",
        "\n",
        "import torch\n",
        "from torch.utils.data import DataLoader, TensorDataset\n",
        "from torch.cuda.amp import autocast, GradScaler\n",
        "\n",
        "from transformers import BertTokenizer, BertForSequenceClassification, AdamW, get_linear_schedule_with_warmup\n",
        "\n",
        "import time\n",
        "\n",
        "from nltk.sentiment import SentimentIntensityAnalyzer\n",
        "\n",
        "from tqdm.notebook import tqdm\n",
        "\n",
        "nltk.download('vader_lexicon')\n",
        "\n",
        "#!pip install transformers\n",
        "from transformers import AutoTokenizer\n",
        "from transformers import AutoModelForSequenceClassification\n",
        "from scipy.special import softmax\n",
        "from transformers import pipeline\n",
        "from tqdm import tqdm\n",
        "\n",
        "\n",
        "from transformers import RobertaTokenizer, RobertaForSequenceClassification, AdamW, get_linear_schedule_with_warmup\n",
        "\n",
        "\n",
        "from sklearn.metrics import accuracy_score, precision_score, recall_score, f1_score"
      ],
      "metadata": {
        "colab": {
          "base_uri": "https://localhost:8080/"
        },
        "id": "d6WZtdoLgMtd",
        "outputId": "6aa9a1d8-97db-499a-a995-ca8945463361"
      },
      "execution_count": null,
      "outputs": [
        {
          "output_type": "stream",
          "name": "stderr",
          "text": [
            "[nltk_data] Downloading package punkt to /root/nltk_data...\n",
            "[nltk_data]   Unzipping tokenizers/punkt.zip.\n",
            "[nltk_data] Downloading package stopwords to /root/nltk_data...\n",
            "[nltk_data]   Unzipping corpora/stopwords.zip.\n",
            "[nltk_data] Downloading package wordnet to /root/nltk_data...\n",
            "[nltk_data] Downloading package vader_lexicon to /root/nltk_data...\n"
          ]
        }
      ]
    },
    {
      "cell_type": "markdown",
      "source": [
        "## **Load and Preprocessing phase**"
      ],
      "metadata": {
        "id": "HGLKfXrgWDqz"
      }
    },
    {
      "cell_type": "markdown",
      "source": [
        "We are loading 10 dataset from https://www.kaggle.com/datasets/cynthiarempel/amazon-us-customer-reviews-dataset"
      ],
      "metadata": {
        "id": "LSD67NjG61je"
      }
    },
    {
      "cell_type": "code",
      "source": [
        "drive.mount('/content/drive')"
      ],
      "metadata": {
        "colab": {
          "base_uri": "https://localhost:8080/"
        },
        "id": "GDZdXG_9xkku",
        "outputId": "9fb74bda-7418-43ae-e601-ed20e3a3ef2b"
      },
      "execution_count": null,
      "outputs": [
        {
          "output_type": "stream",
          "name": "stdout",
          "text": [
            "Drive already mounted at /content/drive; to attempt to forcibly remount, call drive.mount(\"/content/drive\", force_remount=True).\n"
          ]
        }
      ]
    },
    {
      "cell_type": "code",
      "source": [
        "file_paths = [\n",
        "    '/content/drive/MyDrive/DF/amazon_reviews_us_Digital_Software_v1_00.tsv',\n",
        "    '/content/drive/MyDrive/DF/amazon_reviews_us_Gift_Card_v1_00.tsv',\n",
        "    '/content/drive/MyDrive/DF/amazon_reviews_us_Personal_Care_Appliances_v1_00.tsv',\n",
        "    '/content/drive/MyDrive/DF/amazon_reviews_us_Mobile_Electronics_v1_00.tsv',\n",
        "    '/content/drive/MyDrive/DF/amazon_reviews_us_Major_Appliances_v1_00.tsv',\n",
        "    '/content/drive/MyDrive/DF/amazon_reviews_us_Digital_Video_Games_v1_00.tsv',\n",
        "    '/content/drive/MyDrive/DF/amazon_reviews_us_Software_v1_00.tsv',\n",
        "    '/content/drive/MyDrive/DF/amazon_reviews_us_Musical_Instruments_v1_00.tsv',\n",
        "    '/content/drive/MyDrive/DF/amazon_reviews_us_Video_v1_00.tsv',\n",
        "    '/content/drive/MyDrive/DF/amazon_reviews_us_Digital_Music_Purchase_v1_00.tsv',\n",
        "]"
      ],
      "metadata": {
        "id": "mjzjWewwAdLu"
      },
      "execution_count": null,
      "outputs": []
    },
    {
      "cell_type": "code",
      "source": [
        "df = pd.DataFrame()\n",
        "\n",
        "for file_path in file_paths:\n",
        "    temp_df = pd.read_csv(file_path, sep='\\t', on_bad_lines='skip')[['review_body', 'review_headline', 'star_rating', 'verified_purchase']]\n",
        "    df = pd.concat([df, temp_df])"
      ],
      "metadata": {
        "id": "CVMmDJFvgFLq"
      },
      "execution_count": null,
      "outputs": []
    },
    {
      "cell_type": "code",
      "source": [
        "df.head()"
      ],
      "metadata": {
        "colab": {
          "base_uri": "https://localhost:8080/",
          "height": 206
        },
        "id": "1RcNKqRL9JLG",
        "outputId": "0609efcd-736f-46b3-82c1-1ef06959f781"
      },
      "execution_count": null,
      "outputs": [
        {
          "output_type": "execute_result",
          "data": {
            "text/plain": [
              "                                         review_body  \\\n",
              "0                                     So far so good   \n",
              "1                      Needs a little more work.....   \n",
              "2                                     Please cancel.   \n",
              "3                                 Works as Expected!   \n",
              "4  I've had Webroot for a few years. It expired a...   \n",
              "\n",
              "                               review_headline  star_rating verified_purchase  \n",
              "0                                   Four Stars          4.0                 Y  \n",
              "1                                  Three Stars          3.0                 Y  \n",
              "2                                     One Star          1.0                 Y  \n",
              "3                           Works as Expected!          5.0                 Y  \n",
              "4  Great antivirus. Worthless customer support          4.0                 Y  "
            ],
            "text/html": [
              "\n",
              "  <div id=\"df-6da41eac-f747-4019-b17a-92e7ac1c44f0\" class=\"colab-df-container\">\n",
              "    <div>\n",
              "<style scoped>\n",
              "    .dataframe tbody tr th:only-of-type {\n",
              "        vertical-align: middle;\n",
              "    }\n",
              "\n",
              "    .dataframe tbody tr th {\n",
              "        vertical-align: top;\n",
              "    }\n",
              "\n",
              "    .dataframe thead th {\n",
              "        text-align: right;\n",
              "    }\n",
              "</style>\n",
              "<table border=\"1\" class=\"dataframe\">\n",
              "  <thead>\n",
              "    <tr style=\"text-align: right;\">\n",
              "      <th></th>\n",
              "      <th>review_body</th>\n",
              "      <th>review_headline</th>\n",
              "      <th>star_rating</th>\n",
              "      <th>verified_purchase</th>\n",
              "    </tr>\n",
              "  </thead>\n",
              "  <tbody>\n",
              "    <tr>\n",
              "      <th>0</th>\n",
              "      <td>So far so good</td>\n",
              "      <td>Four Stars</td>\n",
              "      <td>4.0</td>\n",
              "      <td>Y</td>\n",
              "    </tr>\n",
              "    <tr>\n",
              "      <th>1</th>\n",
              "      <td>Needs a little more work.....</td>\n",
              "      <td>Three Stars</td>\n",
              "      <td>3.0</td>\n",
              "      <td>Y</td>\n",
              "    </tr>\n",
              "    <tr>\n",
              "      <th>2</th>\n",
              "      <td>Please cancel.</td>\n",
              "      <td>One Star</td>\n",
              "      <td>1.0</td>\n",
              "      <td>Y</td>\n",
              "    </tr>\n",
              "    <tr>\n",
              "      <th>3</th>\n",
              "      <td>Works as Expected!</td>\n",
              "      <td>Works as Expected!</td>\n",
              "      <td>5.0</td>\n",
              "      <td>Y</td>\n",
              "    </tr>\n",
              "    <tr>\n",
              "      <th>4</th>\n",
              "      <td>I've had Webroot for a few years. It expired a...</td>\n",
              "      <td>Great antivirus. Worthless customer support</td>\n",
              "      <td>4.0</td>\n",
              "      <td>Y</td>\n",
              "    </tr>\n",
              "  </tbody>\n",
              "</table>\n",
              "</div>\n",
              "    <div class=\"colab-df-buttons\">\n",
              "\n",
              "  <div class=\"colab-df-container\">\n",
              "    <button class=\"colab-df-convert\" onclick=\"convertToInteractive('df-6da41eac-f747-4019-b17a-92e7ac1c44f0')\"\n",
              "            title=\"Convert this dataframe to an interactive table.\"\n",
              "            style=\"display:none;\">\n",
              "\n",
              "  <svg xmlns=\"http://www.w3.org/2000/svg\" height=\"24px\" viewBox=\"0 -960 960 960\">\n",
              "    <path d=\"M120-120v-720h720v720H120Zm60-500h600v-160H180v160Zm220 220h160v-160H400v160Zm0 220h160v-160H400v160ZM180-400h160v-160H180v160Zm440 0h160v-160H620v160ZM180-180h160v-160H180v160Zm440 0h160v-160H620v160Z\"/>\n",
              "  </svg>\n",
              "    </button>\n",
              "\n",
              "  <style>\n",
              "    .colab-df-container {\n",
              "      display:flex;\n",
              "      gap: 12px;\n",
              "    }\n",
              "\n",
              "    .colab-df-convert {\n",
              "      background-color: #E8F0FE;\n",
              "      border: none;\n",
              "      border-radius: 50%;\n",
              "      cursor: pointer;\n",
              "      display: none;\n",
              "      fill: #1967D2;\n",
              "      height: 32px;\n",
              "      padding: 0 0 0 0;\n",
              "      width: 32px;\n",
              "    }\n",
              "\n",
              "    .colab-df-convert:hover {\n",
              "      background-color: #E2EBFA;\n",
              "      box-shadow: 0px 1px 2px rgba(60, 64, 67, 0.3), 0px 1px 3px 1px rgba(60, 64, 67, 0.15);\n",
              "      fill: #174EA6;\n",
              "    }\n",
              "\n",
              "    .colab-df-buttons div {\n",
              "      margin-bottom: 4px;\n",
              "    }\n",
              "\n",
              "    [theme=dark] .colab-df-convert {\n",
              "      background-color: #3B4455;\n",
              "      fill: #D2E3FC;\n",
              "    }\n",
              "\n",
              "    [theme=dark] .colab-df-convert:hover {\n",
              "      background-color: #434B5C;\n",
              "      box-shadow: 0px 1px 3px 1px rgba(0, 0, 0, 0.15);\n",
              "      filter: drop-shadow(0px 1px 2px rgba(0, 0, 0, 0.3));\n",
              "      fill: #FFFFFF;\n",
              "    }\n",
              "  </style>\n",
              "\n",
              "    <script>\n",
              "      const buttonEl =\n",
              "        document.querySelector('#df-6da41eac-f747-4019-b17a-92e7ac1c44f0 button.colab-df-convert');\n",
              "      buttonEl.style.display =\n",
              "        google.colab.kernel.accessAllowed ? 'block' : 'none';\n",
              "\n",
              "      async function convertToInteractive(key) {\n",
              "        const element = document.querySelector('#df-6da41eac-f747-4019-b17a-92e7ac1c44f0');\n",
              "        const dataTable =\n",
              "          await google.colab.kernel.invokeFunction('convertToInteractive',\n",
              "                                                    [key], {});\n",
              "        if (!dataTable) return;\n",
              "\n",
              "        const docLinkHtml = 'Like what you see? Visit the ' +\n",
              "          '<a target=\"_blank\" href=https://colab.research.google.com/notebooks/data_table.ipynb>data table notebook</a>'\n",
              "          + ' to learn more about interactive tables.';\n",
              "        element.innerHTML = '';\n",
              "        dataTable['output_type'] = 'display_data';\n",
              "        await google.colab.output.renderOutput(dataTable, element);\n",
              "        const docLink = document.createElement('div');\n",
              "        docLink.innerHTML = docLinkHtml;\n",
              "        element.appendChild(docLink);\n",
              "      }\n",
              "    </script>\n",
              "  </div>\n",
              "\n",
              "\n",
              "<div id=\"df-d9e1c10a-fbae-4c0e-905d-c01bf0facca3\">\n",
              "  <button class=\"colab-df-quickchart\" onclick=\"quickchart('df-d9e1c10a-fbae-4c0e-905d-c01bf0facca3')\"\n",
              "            title=\"Suggest charts\"\n",
              "            style=\"display:none;\">\n",
              "\n",
              "<svg xmlns=\"http://www.w3.org/2000/svg\" height=\"24px\"viewBox=\"0 0 24 24\"\n",
              "     width=\"24px\">\n",
              "    <g>\n",
              "        <path d=\"M19 3H5c-1.1 0-2 .9-2 2v14c0 1.1.9 2 2 2h14c1.1 0 2-.9 2-2V5c0-1.1-.9-2-2-2zM9 17H7v-7h2v7zm4 0h-2V7h2v10zm4 0h-2v-4h2v4z\"/>\n",
              "    </g>\n",
              "</svg>\n",
              "  </button>\n",
              "\n",
              "<style>\n",
              "  .colab-df-quickchart {\n",
              "      --bg-color: #E8F0FE;\n",
              "      --fill-color: #1967D2;\n",
              "      --hover-bg-color: #E2EBFA;\n",
              "      --hover-fill-color: #174EA6;\n",
              "      --disabled-fill-color: #AAA;\n",
              "      --disabled-bg-color: #DDD;\n",
              "  }\n",
              "\n",
              "  [theme=dark] .colab-df-quickchart {\n",
              "      --bg-color: #3B4455;\n",
              "      --fill-color: #D2E3FC;\n",
              "      --hover-bg-color: #434B5C;\n",
              "      --hover-fill-color: #FFFFFF;\n",
              "      --disabled-bg-color: #3B4455;\n",
              "      --disabled-fill-color: #666;\n",
              "  }\n",
              "\n",
              "  .colab-df-quickchart {\n",
              "    background-color: var(--bg-color);\n",
              "    border: none;\n",
              "    border-radius: 50%;\n",
              "    cursor: pointer;\n",
              "    display: none;\n",
              "    fill: var(--fill-color);\n",
              "    height: 32px;\n",
              "    padding: 0;\n",
              "    width: 32px;\n",
              "  }\n",
              "\n",
              "  .colab-df-quickchart:hover {\n",
              "    background-color: var(--hover-bg-color);\n",
              "    box-shadow: 0 1px 2px rgba(60, 64, 67, 0.3), 0 1px 3px 1px rgba(60, 64, 67, 0.15);\n",
              "    fill: var(--button-hover-fill-color);\n",
              "  }\n",
              "\n",
              "  .colab-df-quickchart-complete:disabled,\n",
              "  .colab-df-quickchart-complete:disabled:hover {\n",
              "    background-color: var(--disabled-bg-color);\n",
              "    fill: var(--disabled-fill-color);\n",
              "    box-shadow: none;\n",
              "  }\n",
              "\n",
              "  .colab-df-spinner {\n",
              "    border: 2px solid var(--fill-color);\n",
              "    border-color: transparent;\n",
              "    border-bottom-color: var(--fill-color);\n",
              "    animation:\n",
              "      spin 1s steps(1) infinite;\n",
              "  }\n",
              "\n",
              "  @keyframes spin {\n",
              "    0% {\n",
              "      border-color: transparent;\n",
              "      border-bottom-color: var(--fill-color);\n",
              "      border-left-color: var(--fill-color);\n",
              "    }\n",
              "    20% {\n",
              "      border-color: transparent;\n",
              "      border-left-color: var(--fill-color);\n",
              "      border-top-color: var(--fill-color);\n",
              "    }\n",
              "    30% {\n",
              "      border-color: transparent;\n",
              "      border-left-color: var(--fill-color);\n",
              "      border-top-color: var(--fill-color);\n",
              "      border-right-color: var(--fill-color);\n",
              "    }\n",
              "    40% {\n",
              "      border-color: transparent;\n",
              "      border-right-color: var(--fill-color);\n",
              "      border-top-color: var(--fill-color);\n",
              "    }\n",
              "    60% {\n",
              "      border-color: transparent;\n",
              "      border-right-color: var(--fill-color);\n",
              "    }\n",
              "    80% {\n",
              "      border-color: transparent;\n",
              "      border-right-color: var(--fill-color);\n",
              "      border-bottom-color: var(--fill-color);\n",
              "    }\n",
              "    90% {\n",
              "      border-color: transparent;\n",
              "      border-bottom-color: var(--fill-color);\n",
              "    }\n",
              "  }\n",
              "</style>\n",
              "\n",
              "  <script>\n",
              "    async function quickchart(key) {\n",
              "      const quickchartButtonEl =\n",
              "        document.querySelector('#' + key + ' button');\n",
              "      quickchartButtonEl.disabled = true;  // To prevent multiple clicks.\n",
              "      quickchartButtonEl.classList.add('colab-df-spinner');\n",
              "      try {\n",
              "        const charts = await google.colab.kernel.invokeFunction(\n",
              "            'suggestCharts', [key], {});\n",
              "      } catch (error) {\n",
              "        console.error('Error during call to suggestCharts:', error);\n",
              "      }\n",
              "      quickchartButtonEl.classList.remove('colab-df-spinner');\n",
              "      quickchartButtonEl.classList.add('colab-df-quickchart-complete');\n",
              "    }\n",
              "    (() => {\n",
              "      let quickchartButtonEl =\n",
              "        document.querySelector('#df-d9e1c10a-fbae-4c0e-905d-c01bf0facca3 button');\n",
              "      quickchartButtonEl.style.display =\n",
              "        google.colab.kernel.accessAllowed ? 'block' : 'none';\n",
              "    })();\n",
              "  </script>\n",
              "</div>\n",
              "\n",
              "    </div>\n",
              "  </div>\n"
            ],
            "application/vnd.google.colaboratory.intrinsic+json": {
              "type": "dataframe",
              "variable_name": "df"
            }
          },
          "metadata": {},
          "execution_count": 131
        }
      ]
    },
    {
      "cell_type": "code",
      "source": [
        "df.isnull().sum()"
      ],
      "metadata": {
        "colab": {
          "base_uri": "https://localhost:8080/"
        },
        "id": "TNZbH7GAof7e",
        "outputId": "93f75035-a025-4b9e-ae30-b42527608462"
      },
      "execution_count": null,
      "outputs": [
        {
          "output_type": "execute_result",
          "data": {
            "text/plain": [
              "review_body          217\n",
              "review_headline       91\n",
              "star_rating            4\n",
              "verified_purchase      4\n",
              "dtype: int64"
            ]
          },
          "metadata": {},
          "execution_count": 132
        }
      ]
    },
    {
      "cell_type": "code",
      "source": [
        "df = df.dropna()\n",
        "df.isnull().sum()"
      ],
      "metadata": {
        "colab": {
          "base_uri": "https://localhost:8080/"
        },
        "id": "M-LzgP_UoohH",
        "outputId": "7ddda5f2-dd22-4216-8331-006a03f09972"
      },
      "execution_count": null,
      "outputs": [
        {
          "output_type": "execute_result",
          "data": {
            "text/plain": [
              "review_body          0\n",
              "review_headline      0\n",
              "star_rating          0\n",
              "verified_purchase    0\n",
              "dtype: int64"
            ]
          },
          "metadata": {},
          "execution_count": 133
        }
      ]
    },
    {
      "cell_type": "code",
      "source": [
        "df.head()"
      ],
      "metadata": {
        "colab": {
          "base_uri": "https://localhost:8080/",
          "height": 206
        },
        "id": "q_24q2ZOjdkk",
        "outputId": "d8c5e947-44c4-44f2-df44-30c69c6372ab"
      },
      "execution_count": null,
      "outputs": [
        {
          "output_type": "execute_result",
          "data": {
            "text/plain": [
              "                                         review_body  \\\n",
              "0                                     So far so good   \n",
              "1                      Needs a little more work.....   \n",
              "2                                     Please cancel.   \n",
              "3                                 Works as Expected!   \n",
              "4  I've had Webroot for a few years. It expired a...   \n",
              "\n",
              "                               review_headline  star_rating verified_purchase  \n",
              "0                                   Four Stars          4.0                 Y  \n",
              "1                                  Three Stars          3.0                 Y  \n",
              "2                                     One Star          1.0                 Y  \n",
              "3                           Works as Expected!          5.0                 Y  \n",
              "4  Great antivirus. Worthless customer support          4.0                 Y  "
            ],
            "text/html": [
              "\n",
              "  <div id=\"df-e8a894ac-dd04-4fe0-989c-7dced659f472\" class=\"colab-df-container\">\n",
              "    <div>\n",
              "<style scoped>\n",
              "    .dataframe tbody tr th:only-of-type {\n",
              "        vertical-align: middle;\n",
              "    }\n",
              "\n",
              "    .dataframe tbody tr th {\n",
              "        vertical-align: top;\n",
              "    }\n",
              "\n",
              "    .dataframe thead th {\n",
              "        text-align: right;\n",
              "    }\n",
              "</style>\n",
              "<table border=\"1\" class=\"dataframe\">\n",
              "  <thead>\n",
              "    <tr style=\"text-align: right;\">\n",
              "      <th></th>\n",
              "      <th>review_body</th>\n",
              "      <th>review_headline</th>\n",
              "      <th>star_rating</th>\n",
              "      <th>verified_purchase</th>\n",
              "    </tr>\n",
              "  </thead>\n",
              "  <tbody>\n",
              "    <tr>\n",
              "      <th>0</th>\n",
              "      <td>So far so good</td>\n",
              "      <td>Four Stars</td>\n",
              "      <td>4.0</td>\n",
              "      <td>Y</td>\n",
              "    </tr>\n",
              "    <tr>\n",
              "      <th>1</th>\n",
              "      <td>Needs a little more work.....</td>\n",
              "      <td>Three Stars</td>\n",
              "      <td>3.0</td>\n",
              "      <td>Y</td>\n",
              "    </tr>\n",
              "    <tr>\n",
              "      <th>2</th>\n",
              "      <td>Please cancel.</td>\n",
              "      <td>One Star</td>\n",
              "      <td>1.0</td>\n",
              "      <td>Y</td>\n",
              "    </tr>\n",
              "    <tr>\n",
              "      <th>3</th>\n",
              "      <td>Works as Expected!</td>\n",
              "      <td>Works as Expected!</td>\n",
              "      <td>5.0</td>\n",
              "      <td>Y</td>\n",
              "    </tr>\n",
              "    <tr>\n",
              "      <th>4</th>\n",
              "      <td>I've had Webroot for a few years. It expired a...</td>\n",
              "      <td>Great antivirus. Worthless customer support</td>\n",
              "      <td>4.0</td>\n",
              "      <td>Y</td>\n",
              "    </tr>\n",
              "  </tbody>\n",
              "</table>\n",
              "</div>\n",
              "    <div class=\"colab-df-buttons\">\n",
              "\n",
              "  <div class=\"colab-df-container\">\n",
              "    <button class=\"colab-df-convert\" onclick=\"convertToInteractive('df-e8a894ac-dd04-4fe0-989c-7dced659f472')\"\n",
              "            title=\"Convert this dataframe to an interactive table.\"\n",
              "            style=\"display:none;\">\n",
              "\n",
              "  <svg xmlns=\"http://www.w3.org/2000/svg\" height=\"24px\" viewBox=\"0 -960 960 960\">\n",
              "    <path d=\"M120-120v-720h720v720H120Zm60-500h600v-160H180v160Zm220 220h160v-160H400v160Zm0 220h160v-160H400v160ZM180-400h160v-160H180v160Zm440 0h160v-160H620v160ZM180-180h160v-160H180v160Zm440 0h160v-160H620v160Z\"/>\n",
              "  </svg>\n",
              "    </button>\n",
              "\n",
              "  <style>\n",
              "    .colab-df-container {\n",
              "      display:flex;\n",
              "      gap: 12px;\n",
              "    }\n",
              "\n",
              "    .colab-df-convert {\n",
              "      background-color: #E8F0FE;\n",
              "      border: none;\n",
              "      border-radius: 50%;\n",
              "      cursor: pointer;\n",
              "      display: none;\n",
              "      fill: #1967D2;\n",
              "      height: 32px;\n",
              "      padding: 0 0 0 0;\n",
              "      width: 32px;\n",
              "    }\n",
              "\n",
              "    .colab-df-convert:hover {\n",
              "      background-color: #E2EBFA;\n",
              "      box-shadow: 0px 1px 2px rgba(60, 64, 67, 0.3), 0px 1px 3px 1px rgba(60, 64, 67, 0.15);\n",
              "      fill: #174EA6;\n",
              "    }\n",
              "\n",
              "    .colab-df-buttons div {\n",
              "      margin-bottom: 4px;\n",
              "    }\n",
              "\n",
              "    [theme=dark] .colab-df-convert {\n",
              "      background-color: #3B4455;\n",
              "      fill: #D2E3FC;\n",
              "    }\n",
              "\n",
              "    [theme=dark] .colab-df-convert:hover {\n",
              "      background-color: #434B5C;\n",
              "      box-shadow: 0px 1px 3px 1px rgba(0, 0, 0, 0.15);\n",
              "      filter: drop-shadow(0px 1px 2px rgba(0, 0, 0, 0.3));\n",
              "      fill: #FFFFFF;\n",
              "    }\n",
              "  </style>\n",
              "\n",
              "    <script>\n",
              "      const buttonEl =\n",
              "        document.querySelector('#df-e8a894ac-dd04-4fe0-989c-7dced659f472 button.colab-df-convert');\n",
              "      buttonEl.style.display =\n",
              "        google.colab.kernel.accessAllowed ? 'block' : 'none';\n",
              "\n",
              "      async function convertToInteractive(key) {\n",
              "        const element = document.querySelector('#df-e8a894ac-dd04-4fe0-989c-7dced659f472');\n",
              "        const dataTable =\n",
              "          await google.colab.kernel.invokeFunction('convertToInteractive',\n",
              "                                                    [key], {});\n",
              "        if (!dataTable) return;\n",
              "\n",
              "        const docLinkHtml = 'Like what you see? Visit the ' +\n",
              "          '<a target=\"_blank\" href=https://colab.research.google.com/notebooks/data_table.ipynb>data table notebook</a>'\n",
              "          + ' to learn more about interactive tables.';\n",
              "        element.innerHTML = '';\n",
              "        dataTable['output_type'] = 'display_data';\n",
              "        await google.colab.output.renderOutput(dataTable, element);\n",
              "        const docLink = document.createElement('div');\n",
              "        docLink.innerHTML = docLinkHtml;\n",
              "        element.appendChild(docLink);\n",
              "      }\n",
              "    </script>\n",
              "  </div>\n",
              "\n",
              "\n",
              "<div id=\"df-95372b32-878a-44eb-8739-bd2e93017207\">\n",
              "  <button class=\"colab-df-quickchart\" onclick=\"quickchart('df-95372b32-878a-44eb-8739-bd2e93017207')\"\n",
              "            title=\"Suggest charts\"\n",
              "            style=\"display:none;\">\n",
              "\n",
              "<svg xmlns=\"http://www.w3.org/2000/svg\" height=\"24px\"viewBox=\"0 0 24 24\"\n",
              "     width=\"24px\">\n",
              "    <g>\n",
              "        <path d=\"M19 3H5c-1.1 0-2 .9-2 2v14c0 1.1.9 2 2 2h14c1.1 0 2-.9 2-2V5c0-1.1-.9-2-2-2zM9 17H7v-7h2v7zm4 0h-2V7h2v10zm4 0h-2v-4h2v4z\"/>\n",
              "    </g>\n",
              "</svg>\n",
              "  </button>\n",
              "\n",
              "<style>\n",
              "  .colab-df-quickchart {\n",
              "      --bg-color: #E8F0FE;\n",
              "      --fill-color: #1967D2;\n",
              "      --hover-bg-color: #E2EBFA;\n",
              "      --hover-fill-color: #174EA6;\n",
              "      --disabled-fill-color: #AAA;\n",
              "      --disabled-bg-color: #DDD;\n",
              "  }\n",
              "\n",
              "  [theme=dark] .colab-df-quickchart {\n",
              "      --bg-color: #3B4455;\n",
              "      --fill-color: #D2E3FC;\n",
              "      --hover-bg-color: #434B5C;\n",
              "      --hover-fill-color: #FFFFFF;\n",
              "      --disabled-bg-color: #3B4455;\n",
              "      --disabled-fill-color: #666;\n",
              "  }\n",
              "\n",
              "  .colab-df-quickchart {\n",
              "    background-color: var(--bg-color);\n",
              "    border: none;\n",
              "    border-radius: 50%;\n",
              "    cursor: pointer;\n",
              "    display: none;\n",
              "    fill: var(--fill-color);\n",
              "    height: 32px;\n",
              "    padding: 0;\n",
              "    width: 32px;\n",
              "  }\n",
              "\n",
              "  .colab-df-quickchart:hover {\n",
              "    background-color: var(--hover-bg-color);\n",
              "    box-shadow: 0 1px 2px rgba(60, 64, 67, 0.3), 0 1px 3px 1px rgba(60, 64, 67, 0.15);\n",
              "    fill: var(--button-hover-fill-color);\n",
              "  }\n",
              "\n",
              "  .colab-df-quickchart-complete:disabled,\n",
              "  .colab-df-quickchart-complete:disabled:hover {\n",
              "    background-color: var(--disabled-bg-color);\n",
              "    fill: var(--disabled-fill-color);\n",
              "    box-shadow: none;\n",
              "  }\n",
              "\n",
              "  .colab-df-spinner {\n",
              "    border: 2px solid var(--fill-color);\n",
              "    border-color: transparent;\n",
              "    border-bottom-color: var(--fill-color);\n",
              "    animation:\n",
              "      spin 1s steps(1) infinite;\n",
              "  }\n",
              "\n",
              "  @keyframes spin {\n",
              "    0% {\n",
              "      border-color: transparent;\n",
              "      border-bottom-color: var(--fill-color);\n",
              "      border-left-color: var(--fill-color);\n",
              "    }\n",
              "    20% {\n",
              "      border-color: transparent;\n",
              "      border-left-color: var(--fill-color);\n",
              "      border-top-color: var(--fill-color);\n",
              "    }\n",
              "    30% {\n",
              "      border-color: transparent;\n",
              "      border-left-color: var(--fill-color);\n",
              "      border-top-color: var(--fill-color);\n",
              "      border-right-color: var(--fill-color);\n",
              "    }\n",
              "    40% {\n",
              "      border-color: transparent;\n",
              "      border-right-color: var(--fill-color);\n",
              "      border-top-color: var(--fill-color);\n",
              "    }\n",
              "    60% {\n",
              "      border-color: transparent;\n",
              "      border-right-color: var(--fill-color);\n",
              "    }\n",
              "    80% {\n",
              "      border-color: transparent;\n",
              "      border-right-color: var(--fill-color);\n",
              "      border-bottom-color: var(--fill-color);\n",
              "    }\n",
              "    90% {\n",
              "      border-color: transparent;\n",
              "      border-bottom-color: var(--fill-color);\n",
              "    }\n",
              "  }\n",
              "</style>\n",
              "\n",
              "  <script>\n",
              "    async function quickchart(key) {\n",
              "      const quickchartButtonEl =\n",
              "        document.querySelector('#' + key + ' button');\n",
              "      quickchartButtonEl.disabled = true;  // To prevent multiple clicks.\n",
              "      quickchartButtonEl.classList.add('colab-df-spinner');\n",
              "      try {\n",
              "        const charts = await google.colab.kernel.invokeFunction(\n",
              "            'suggestCharts', [key], {});\n",
              "      } catch (error) {\n",
              "        console.error('Error during call to suggestCharts:', error);\n",
              "      }\n",
              "      quickchartButtonEl.classList.remove('colab-df-spinner');\n",
              "      quickchartButtonEl.classList.add('colab-df-quickchart-complete');\n",
              "    }\n",
              "    (() => {\n",
              "      let quickchartButtonEl =\n",
              "        document.querySelector('#df-95372b32-878a-44eb-8739-bd2e93017207 button');\n",
              "      quickchartButtonEl.style.display =\n",
              "        google.colab.kernel.accessAllowed ? 'block' : 'none';\n",
              "    })();\n",
              "  </script>\n",
              "</div>\n",
              "\n",
              "    </div>\n",
              "  </div>\n"
            ],
            "application/vnd.google.colaboratory.intrinsic+json": {
              "type": "dataframe",
              "variable_name": "df"
            }
          },
          "metadata": {},
          "execution_count": 134
        }
      ]
    },
    {
      "cell_type": "code",
      "source": [
        "df['star_rating'] = df['star_rating'].astype(int)\n",
        "df['sentiment'] = df['star_rating'].apply(lambda x: 'positive' if x > 3 else ('neutral' if x == 3 else 'negative'))\n",
        "df.head()\n",
        "\n",
        "\n",
        "#df = df[df['verified_purchase']==\"Y\"]\n",
        "#df = df[['review_body', 'review_headline', 'sentiment']]\n",
        "print(df.shape)"
      ],
      "metadata": {
        "colab": {
          "base_uri": "https://localhost:8080/"
        },
        "id": "5shdGOBin_sT",
        "outputId": "661cced5-ec36-4921-fb6a-850cca6f1643"
      },
      "execution_count": null,
      "outputs": [
        {
          "output_type": "stream",
          "name": "stdout",
          "text": [
            "(3989465, 5)\n"
          ]
        }
      ]
    },
    {
      "cell_type": "code",
      "source": [
        "label_counts = df['sentiment'].value_counts()\n",
        "print(f\"Count of each label:\\n{label_counts}\")"
      ],
      "metadata": {
        "colab": {
          "base_uri": "https://localhost:8080/"
        },
        "id": "OVylEOOfoxZA",
        "outputId": "e612cb47-5bd1-4a70-8f7c-31ef0a0ce7ae"
      },
      "execution_count": null,
      "outputs": [
        {
          "output_type": "stream",
          "name": "stdout",
          "text": [
            "Count of each label:\n",
            "sentiment\n",
            "positive    3287848\n",
            "negative     460650\n",
            "neutral      240967\n",
            "Name: count, dtype: int64\n"
          ]
        }
      ]
    },
    {
      "cell_type": "code",
      "source": [
        "label_counts.plot(kind='bar')\n",
        "plt.xlabel('Labels')\n",
        "plt.ylabel('Count')\n",
        "plt.title('Distribution of Labels')\n",
        "plt.show()"
      ],
      "metadata": {
        "colab": {
          "base_uri": "https://localhost:8080/",
          "height": 519
        },
        "id": "FCx4W_eHpJ05",
        "outputId": "935cb799-f801-47d7-de2b-97f48e637c0d"
      },
      "execution_count": null,
      "outputs": [
        {
          "output_type": "display_data",
          "data": {
            "text/plain": [
              "<Figure size 640x480 with 1 Axes>"
            ],
            "image/png": "[encoded data removed]"
          },
          "metadata": {}
        }
      ]
    },
    {
      "cell_type": "code",
      "source": [
        "positive = df[df['sentiment'] == 'positive']\n",
        "neutral = df[df['sentiment'] == 'neutral']\n",
        "negative = df[df['sentiment'] == 'negative']"
      ],
      "metadata": {
        "id": "_zaN6ecfoJyo"
      },
      "execution_count": null,
      "outputs": []
    },
    {
      "cell_type": "code",
      "source": [
        "n_samples = 20000"
      ],
      "metadata": {
        "id": "VIbtXVncppiu"
      },
      "execution_count": null,
      "outputs": []
    },
    {
      "cell_type": "code",
      "source": [
        "positive_balanced = resample(positive, replace=True, n_samples=n_samples, random_state=42)\n",
        "neutral_balanced = resample(neutral, replace=True, n_samples=n_samples, random_state=42)\n",
        "negative_balanced = resample(negative, replace=True, n_samples=n_samples, random_state=42)"
      ],
      "metadata": {
        "id": "SCJKe6kTpj4z"
      },
      "execution_count": null,
      "outputs": []
    },
    {
      "cell_type": "code",
      "source": [
        "df_balanced = pd.concat([positive_balanced, neutral_balanced, negative_balanced])\n",
        "\n",
        "df_balanced = df_balanced.sample(frac=1, random_state=42).reset_index(drop=True)\n",
        "\n",
        "df_balanced.head()"
      ],
      "metadata": {
        "id": "sCknO9K0p3t-",
        "colab": {
          "base_uri": "https://localhost:8080/",
          "height": 206
        },
        "outputId": "9d18e1cd-4d62-4652-d893-eda47d3322af"
      },
      "execution_count": null,
      "outputs": [
        {
          "output_type": "execute_result",
          "data": {
            "text/plain": [
              "                                         review_body  \\\n",
              "0  A highly unusual noir that starts off really, ...   \n",
              "1  Like some other reviewers, I got this as a Fes...   \n",
              "2  Well I'm sure that you realize by now that mos...   \n",
              "3  Perfect Functionality.  Check your Microwave m...   \n",
              "4                                       As expected.   \n",
              "\n",
              "                                     review_headline  star_rating  \\\n",
              "0                                   Outstanding noir            5   \n",
              "1    Would have been perfect if I got what I ordered            3   \n",
              "2  Switching from Deluxe to Elite in mid stream d...            3   \n",
              "3        You spin me right round baby right round...            5   \n",
              "4                                         Five Stars            5   \n",
              "\n",
              "  verified_purchase sentiment  \n",
              "0                 Y  positive  \n",
              "1                 Y   neutral  \n",
              "2                 Y   neutral  \n",
              "3                 Y  positive  \n",
              "4                 Y  positive  "
            ],
            "text/html": [
              "\n",
              "  <div id=\"df-038709d9-7a18-485c-a4ce-519dfc5555b3\" class=\"colab-df-container\">\n",
              "    <div>\n",
              "<style scoped>\n",
              "    .dataframe tbody tr th:only-of-type {\n",
              "        vertical-align: middle;\n",
              "    }\n",
              "\n",
              "    .dataframe tbody tr th {\n",
              "        vertical-align: top;\n",
              "    }\n",
              "\n",
              "    .dataframe thead th {\n",
              "        text-align: right;\n",
              "    }\n",
              "</style>\n",
              "<table border=\"1\" class=\"dataframe\">\n",
              "  <thead>\n",
              "    <tr style=\"text-align: right;\">\n",
              "      <th></th>\n",
              "      <th>review_body</th>\n",
              "      <th>review_headline</th>\n",
              "      <th>star_rating</th>\n",
              "      <th>verified_purchase</th>\n",
              "      <th>sentiment</th>\n",
              "    </tr>\n",
              "  </thead>\n",
              "  <tbody>\n",
              "    <tr>\n",
              "      <th>0</th>\n",
              "      <td>A highly unusual noir that starts off really, ...</td>\n",
              "      <td>Outstanding noir</td>\n",
              "      <td>5</td>\n",
              "      <td>Y</td>\n",
              "      <td>positive</td>\n",
              "    </tr>\n",
              "    <tr>\n",
              "      <th>1</th>\n",
              "      <td>Like some other reviewers, I got this as a Fes...</td>\n",
              "      <td>Would have been perfect if I got what I ordered</td>\n",
              "      <td>3</td>\n",
              "      <td>Y</td>\n",
              "      <td>neutral</td>\n",
              "    </tr>\n",
              "    <tr>\n",
              "      <th>2</th>\n",
              "      <td>Well I'm sure that you realize by now that mos...</td>\n",
              "      <td>Switching from Deluxe to Elite in mid stream d...</td>\n",
              "      <td>3</td>\n",
              "      <td>Y</td>\n",
              "      <td>neutral</td>\n",
              "    </tr>\n",
              "    <tr>\n",
              "      <th>3</th>\n",
              "      <td>Perfect Functionality.  Check your Microwave m...</td>\n",
              "      <td>You spin me right round baby right round...</td>\n",
              "      <td>5</td>\n",
              "      <td>Y</td>\n",
              "      <td>positive</td>\n",
              "    </tr>\n",
              "    <tr>\n",
              "      <th>4</th>\n",
              "      <td>As expected.</td>\n",
              "      <td>Five Stars</td>\n",
              "      <td>5</td>\n",
              "      <td>Y</td>\n",
              "      <td>positive</td>\n",
              "    </tr>\n",
              "  </tbody>\n",
              "</table>\n",
              "</div>\n",
              "    <div class=\"colab-df-buttons\">\n",
              "\n",
              "  <div class=\"colab-df-container\">\n",
              "    <button class=\"colab-df-convert\" onclick=\"convertToInteractive('df-038709d9-7a18-485c-a4ce-519dfc5555b3')\"\n",
              "            title=\"Convert this dataframe to an interactive table.\"\n",
              "            style=\"display:none;\">\n",
              "\n",
              "  <svg xmlns=\"http://www.w3.org/2000/svg\" height=\"24px\" viewBox=\"0 -960 960 960\">\n",
              "    <path d=\"M120-120v-720h720v720H120Zm60-500h600v-160H180v160Zm220 220h160v-160H400v160Zm0 220h160v-160H400v160ZM180-400h160v-160H180v160Zm440 0h160v-160H620v160ZM180-180h160v-160H180v160Zm440 0h160v-160H620v160Z\"/>\n",
              "  </svg>\n",
              "    </button>\n",
              "\n",
              "  <style>\n",
              "    .colab-df-container {\n",
              "      display:flex;\n",
              "      gap: 12px;\n",
              "    }\n",
              "\n",
              "    .colab-df-convert {\n",
              "      background-color: #E8F0FE;\n",
              "      border: none;\n",
              "      border-radius: 50%;\n",
              "      cursor: pointer;\n",
              "      display: none;\n",
              "      fill: #1967D2;\n",
              "      height: 32px;\n",
              "      padding: 0 0 0 0;\n",
              "      width: 32px;\n",
              "    }\n",
              "\n",
              "    .colab-df-convert:hover {\n",
              "      background-color: #E2EBFA;\n",
              "      box-shadow: 0px 1px 2px rgba(60, 64, 67, 0.3), 0px 1px 3px 1px rgba(60, 64, 67, 0.15);\n",
              "      fill: #174EA6;\n",
              "    }\n",
              "\n",
              "    .colab-df-buttons div {\n",
              "      margin-bottom: 4px;\n",
              "    }\n",
              "\n",
              "    [theme=dark] .colab-df-convert {\n",
              "      background-color: #3B4455;\n",
              "      fill: #D2E3FC;\n",
              "    }\n",
              "\n",
              "    [theme=dark] .colab-df-convert:hover {\n",
              "      background-color: #434B5C;\n",
              "      box-shadow: 0px 1px 3px 1px rgba(0, 0, 0, 0.15);\n",
              "      filter: drop-shadow(0px 1px 2px rgba(0, 0, 0, 0.3));\n",
              "      fill: #FFFFFF;\n",
              "    }\n",
              "  </style>\n",
              "\n",
              "    <script>\n",
              "      const buttonEl =\n",
              "        document.querySelector('#df-038709d9-7a18-485c-a4ce-519dfc5555b3 button.colab-df-convert');\n",
              "      buttonEl.style.display =\n",
              "        google.colab.kernel.accessAllowed ? 'block' : 'none';\n",
              "\n",
              "      async function convertToInteractive(key) {\n",
              "        const element = document.querySelector('#df-038709d9-7a18-485c-a4ce-519dfc5555b3');\n",
              "        const dataTable =\n",
              "          await google.colab.kernel.invokeFunction('convertToInteractive',\n",
              "                                                    [key], {});\n",
              "        if (!dataTable) return;\n",
              "\n",
              "        const docLinkHtml = 'Like what you see? Visit the ' +\n",
              "          '<a target=\"_blank\" href=https://colab.research.google.com/notebooks/data_table.ipynb>data table notebook</a>'\n",
              "          + ' to learn more about interactive tables.';\n",
              "        element.innerHTML = '';\n",
              "        dataTable['output_type'] = 'display_data';\n",
              "        await google.colab.output.renderOutput(dataTable, element);\n",
              "        const docLink = document.createElement('div');\n",
              "        docLink.innerHTML = docLinkHtml;\n",
              "        element.appendChild(docLink);\n",
              "      }\n",
              "    </script>\n",
              "  </div>\n",
              "\n",
              "\n",
              "<div id=\"df-74a3560f-0f68-4a06-95e3-bad4dbf92c3a\">\n",
              "  <button class=\"colab-df-quickchart\" onclick=\"quickchart('df-74a3560f-0f68-4a06-95e3-bad4dbf92c3a')\"\n",
              "            title=\"Suggest charts\"\n",
              "            style=\"display:none;\">\n",
              "\n",
              "<svg xmlns=\"http://www.w3.org/2000/svg\" height=\"24px\"viewBox=\"0 0 24 24\"\n",
              "     width=\"24px\">\n",
              "    <g>\n",
              "        <path d=\"M19 3H5c-1.1 0-2 .9-2 2v14c0 1.1.9 2 2 2h14c1.1 0 2-.9 2-2V5c0-1.1-.9-2-2-2zM9 17H7v-7h2v7zm4 0h-2V7h2v10zm4 0h-2v-4h2v4z\"/>\n",
              "    </g>\n",
              "</svg>\n",
              "  </button>\n",
              "\n",
              "<style>\n",
              "  .colab-df-quickchart {\n",
              "      --bg-color: #E8F0FE;\n",
              "      --fill-color: #1967D2;\n",
              "      --hover-bg-color: #E2EBFA;\n",
              "      --hover-fill-color: #174EA6;\n",
              "      --disabled-fill-color: #AAA;\n",
              "      --disabled-bg-color: #DDD;\n",
              "  }\n",
              "\n",
              "  [theme=dark] .colab-df-quickchart {\n",
              "      --bg-color: #3B4455;\n",
              "      --fill-color: #D2E3FC;\n",
              "      --hover-bg-color: #434B5C;\n",
              "      --hover-fill-color: #FFFFFF;\n",
              "      --disabled-bg-color: #3B4455;\n",
              "      --disabled-fill-color: #666;\n",
              "  }\n",
              "\n",
              "  .colab-df-quickchart {\n",
              "    background-color: var(--bg-color);\n",
              "    border: none;\n",
              "    border-radius: 50%;\n",
              "    cursor: pointer;\n",
              "    display: none;\n",
              "    fill: var(--fill-color);\n",
              "    height: 32px;\n",
              "    padding: 0;\n",
              "    width: 32px;\n",
              "  }\n",
              "\n",
              "  .colab-df-quickchart:hover {\n",
              "    background-color: var(--hover-bg-color);\n",
              "    box-shadow: 0 1px 2px rgba(60, 64, 67, 0.3), 0 1px 3px 1px rgba(60, 64, 67, 0.15);\n",
              "    fill: var(--button-hover-fill-color);\n",
              "  }\n",
              "\n",
              "  .colab-df-quickchart-complete:disabled,\n",
              "  .colab-df-quickchart-complete:disabled:hover {\n",
              "    background-color: var(--disabled-bg-color);\n",
              "    fill: var(--disabled-fill-color);\n",
              "    box-shadow: none;\n",
              "  }\n",
              "\n",
              "  .colab-df-spinner {\n",
              "    border: 2px solid var(--fill-color);\n",
              "    border-color: transparent;\n",
              "    border-bottom-color: var(--fill-color);\n",
              "    animation:\n",
              "      spin 1s steps(1) infinite;\n",
              "  }\n",
              "\n",
              "  @keyframes spin {\n",
              "    0% {\n",
              "      border-color: transparent;\n",
              "      border-bottom-color: var(--fill-color);\n",
              "      border-left-color: var(--fill-color);\n",
              "    }\n",
              "    20% {\n",
              "      border-color: transparent;\n",
              "      border-left-color: var(--fill-color);\n",
              "      border-top-color: var(--fill-color);\n",
              "    }\n",
              "    30% {\n",
              "      border-color: transparent;\n",
              "      border-left-color: var(--fill-color);\n",
              "      border-top-color: var(--fill-color);\n",
              "      border-right-color: var(--fill-color);\n",
              "    }\n",
              "    40% {\n",
              "      border-color: transparent;\n",
              "      border-right-color: var(--fill-color);\n",
              "      border-top-color: var(--fill-color);\n",
              "    }\n",
              "    60% {\n",
              "      border-color: transparent;\n",
              "      border-right-color: var(--fill-color);\n",
              "    }\n",
              "    80% {\n",
              "      border-color: transparent;\n",
              "      border-right-color: var(--fill-color);\n",
              "      border-bottom-color: var(--fill-color);\n",
              "    }\n",
              "    90% {\n",
              "      border-color: transparent;\n",
              "      border-bottom-color: var(--fill-color);\n",
              "    }\n",
              "  }\n",
              "</style>\n",
              "\n",
              "  <script>\n",
              "    async function quickchart(key) {\n",
              "      const quickchartButtonEl =\n",
              "        document.querySelector('#' + key + ' button');\n",
              "      quickchartButtonEl.disabled = true;  // To prevent multiple clicks.\n",
              "      quickchartButtonEl.classList.add('colab-df-spinner');\n",
              "      try {\n",
              "        const charts = await google.colab.kernel.invokeFunction(\n",
              "            'suggestCharts', [key], {});\n",
              "      } catch (error) {\n",
              "        console.error('Error during call to suggestCharts:', error);\n",
              "      }\n",
              "      quickchartButtonEl.classList.remove('colab-df-spinner');\n",
              "      quickchartButtonEl.classList.add('colab-df-quickchart-complete');\n",
              "    }\n",
              "    (() => {\n",
              "      let quickchartButtonEl =\n",
              "        document.querySelector('#df-74a3560f-0f68-4a06-95e3-bad4dbf92c3a button');\n",
              "      quickchartButtonEl.style.display =\n",
              "        google.colab.kernel.accessAllowed ? 'block' : 'none';\n",
              "    })();\n",
              "  </script>\n",
              "</div>\n",
              "\n",
              "    </div>\n",
              "  </div>\n"
            ],
            "application/vnd.google.colaboratory.intrinsic+json": {
              "type": "dataframe",
              "variable_name": "df_balanced",
              "summary": "{\n  \"name\": \"df_balanced\",\n  \"rows\": 60000,\n  \"fields\": [\n    {\n      \"column\": \"review_body\",\n      \"properties\": {\n        \"dtype\": \"string\",\n        \"num_unique_values\": 57323,\n        \"samples\": [\n          \"A nice change from all the pop country, rock whatever being released today.  From a musicians point of view (that's me), I really enjoyed MOST of it.  I think if you a bluesy rock musician you will enjoy it also.\",\n          \"Excellent arrangements for strings and piano. Some truly brilliant and haunting tracks included here. Some very cinematic and familiar sounding.\",\n          \"The microphone itself was too heavy to be held upright from the stand. I tightened the screw to try to keep it in place better, but I ended up tearing the screw in half. Still a good microphone though.\"\n        ],\n        \"semantic_type\": \"\",\n        \"description\": \"\"\n      }\n    },\n    {\n      \"column\": \"review_headline\",\n      \"properties\": {\n        \"dtype\": \"string\",\n        \"num_unique_values\": 45409,\n        \"samples\": [\n          \"Great concept poor quality\",\n          \"a little mustard seed, a great song\",\n          \"2 of 5\"\n        ],\n        \"semantic_type\": \"\",\n        \"description\": \"\"\n      }\n    },\n    {\n      \"column\": \"star_rating\",\n      \"properties\": {\n        \"dtype\": \"number\",\n        \"std\": 1,\n        \"min\": 1,\n        \"max\": 5,\n        \"num_unique_values\": 5,\n        \"samples\": [\n          3,\n          4,\n          1\n        ],\n        \"semantic_type\": \"\",\n        \"description\": \"\"\n      }\n    },\n    {\n      \"column\": \"verified_purchase\",\n      \"properties\": {\n        \"dtype\": \"category\",\n        \"num_unique_values\": 2,\n        \"samples\": [\n          \"N\",\n          \"Y\"\n        ],\n        \"semantic_type\": \"\",\n        \"description\": \"\"\n      }\n    },\n    {\n      \"column\": \"sentiment\",\n      \"properties\": {\n        \"dtype\": \"category\",\n        \"num_unique_values\": 3,\n        \"samples\": [\n          \"positive\",\n          \"neutral\"\n        ],\n        \"semantic_type\": \"\",\n        \"description\": \"\"\n      }\n    }\n  ]\n}"
            }
          },
          "metadata": {},
          "execution_count": 141
        }
      ]
    },
    {
      "cell_type": "code",
      "source": [
        "print(f\"\\nShape of the balanced dataset: {df_balanced.shape}\\n\")"
      ],
      "metadata": {
        "colab": {
          "base_uri": "https://localhost:8080/"
        },
        "id": "s9hrxqJwgVLs",
        "outputId": "f3af4f72-84d4-4003-8efb-9f676e183267"
      },
      "execution_count": null,
      "outputs": [
        {
          "output_type": "stream",
          "name": "stdout",
          "text": [
            "\n",
            "Shape of the balanced dataset: (60000, 5)\n",
            "\n"
          ]
        }
      ]
    },
    {
      "cell_type": "code",
      "source": [
        "print(\"\\nNumber of examples for each sentiment class:\")\n",
        "print(df_balanced['sentiment'].value_counts())"
      ],
      "metadata": {
        "colab": {
          "base_uri": "https://localhost:8080/"
        },
        "id": "Y6ArMx0mqS2L",
        "outputId": "bf927b86-35b1-4b16-caf5-a58db388717e"
      },
      "execution_count": null,
      "outputs": [
        {
          "output_type": "stream",
          "name": "stdout",
          "text": [
            "\n",
            "Number of examples for each sentiment class:\n",
            "sentiment\n",
            "positive    20000\n",
            "neutral     20000\n",
            "negative    20000\n",
            "Name: count, dtype: int64\n"
          ]
        }
      ]
    },
    {
      "cell_type": "code",
      "source": [
        "label_counts_b = df_balanced['sentiment'].value_counts()\n",
        "print(f\"Count of each label:\\n{label_counts_b}\")"
      ],
      "metadata": {
        "colab": {
          "base_uri": "https://localhost:8080/"
        },
        "id": "q1YBP56N-dSo",
        "outputId": "61067128-92a7-498e-a703-074327e5ad75"
      },
      "execution_count": null,
      "outputs": [
        {
          "output_type": "stream",
          "name": "stdout",
          "text": [
            "Count of each label:\n",
            "sentiment\n",
            "positive    20000\n",
            "neutral     20000\n",
            "negative    20000\n",
            "Name: count, dtype: int64\n"
          ]
        }
      ]
    },
    {
      "cell_type": "code",
      "source": [
        "label_counts_b.plot(kind='bar')\n",
        "plt.xlabel('Labels')\n",
        "plt.ylabel('Count')\n",
        "plt.title('Distribution of Labels after resampling')\n",
        "plt.show()"
      ],
      "metadata": {
        "colab": {
          "base_uri": "https://localhost:8080/",
          "height": 519
        },
        "id": "rnw_Sz2Aqw9b",
        "outputId": "17b8486b-5e4f-4c55-adf0-af939565bdbc"
      },
      "execution_count": null,
      "outputs": [
        {
          "output_type": "display_data",
          "data": {
            "text/plain": [
              "<Figure size 640x480 with 1 Axes>"
            ],
            "image/png": "[encoded data removed]"
          },
          "metadata": {}
        }
      ]
    },
    {
      "cell_type": "markdown",
      "source": [
        "Now we can perform the text pre-processing."
      ],
      "metadata": {
        "id": "eKLT-X4__LCk"
      }
    },
    {
      "cell_type": "code",
      "source": [
        "def clean_text(text):\n",
        "    text = text.lower()\n",
        "    text = text.translate(str.maketrans('', '', string.punctuation))\n",
        "    return text\n",
        "\n",
        "def tokenize_and_remove_stopwords(text):\n",
        "    tokens = word_tokenize(text)\n",
        "    stop_words = set(stopwords.words('english'))\n",
        "    tokens = [word for word in tokens if word not in stop_words]\n",
        "    return tokens\n",
        "\n",
        "def lemmatize(tokens):\n",
        "    lemmatizer = WordNetLemmatizer()\n",
        "    lemmatized_tokens = [lemmatizer.lemmatize(word) for word in tokens]\n",
        "    return lemmatized_tokens\n",
        "\n",
        "def remove_special_characters(text):\n",
        "    text = re.sub(r'[^a-zA-Z0-9\\s]', '', text)\n",
        "    return text\n",
        "\n",
        "def preprocess_text(text):\n",
        "    text = clean_text(text)\n",
        "    tokens = tokenize_and_remove_stopwords(text)\n",
        "    lemmatized_tokens = lemmatize(tokens)\n",
        "    text = ' '.join(lemmatized_tokens)\n",
        "    text = remove_special_characters(text)\n",
        "    return text"
      ],
      "metadata": {
        "id": "IusJ74GRtJhQ"
      },
      "execution_count": null,
      "outputs": []
    },
    {
      "cell_type": "code",
      "source": [
        "#df_balanced['cleaned_review_body_lc'] = df_balanced['review_body'].apply(clean_text)\n",
        "#df_balanced['cleaned_review_body_sc'] = df_balanced['review_body'].apply(remove_special_characters)\n",
        "#df_balanced['cleaned_review_body_sc+lc'] = df_balanced['cleaned_review_body_lc'].apply(remove_special_characters)\n",
        "df_balanced['cleaned_review_body'] = df_balanced['review_body'].apply(preprocess_text)"
      ],
      "metadata": {
        "id": "-1k1iJicmleB"
      },
      "execution_count": null,
      "outputs": []
    },
    {
      "cell_type": "code",
      "source": [
        "df_balanced = df_balanced.dropna()\n",
        "df_balanced.isnull().sum()"
      ],
      "metadata": {
        "id": "H0B5XoPOUmYh",
        "outputId": "8ce687ff-760e-4020-bf5d-846999f6f9e8",
        "colab": {
          "base_uri": "https://localhost:8080/"
        }
      },
      "execution_count": null,
      "outputs": [
        {
          "output_type": "execute_result",
          "data": {
            "text/plain": [
              "review_body                0\n",
              "review_headline            0\n",
              "star_rating                0\n",
              "verified_purchase          0\n",
              "sentiment                  0\n",
              "cleaned_review_body_tot    0\n",
              "cleaned_review_body        0\n",
              "dtype: int64"
            ]
          },
          "metadata": {},
          "execution_count": 155
        }
      ]
    },
    {
      "cell_type": "code",
      "source": [
        "df_balanced.head()"
      ],
      "metadata": {
        "colab": {
          "base_uri": "https://localhost:8080/",
          "height": 276
        },
        "id": "zsHyC54zEprn",
        "outputId": "0d71877d-33a0-4335-ccfd-fff89d375a9b"
      },
      "execution_count": null,
      "outputs": [
        {
          "output_type": "execute_result",
          "data": {
            "text/plain": [
              "                                         review_body  \\\n",
              "0  A highly unusual noir that starts off really, ...   \n",
              "1  Like some other reviewers, I got this as a Fes...   \n",
              "2  Well I'm sure that you realize by now that mos...   \n",
              "3  Perfect Functionality.  Check your Microwave m...   \n",
              "4                                       As expected.   \n",
              "\n",
              "                                     review_headline  star_rating  \\\n",
              "0                                   Outstanding noir            5   \n",
              "1    Would have been perfect if I got what I ordered            3   \n",
              "2  Switching from Deluxe to Elite in mid stream d...            3   \n",
              "3        You spin me right round baby right round...            5   \n",
              "4                                         Five Stars            5   \n",
              "\n",
              "  verified_purchase sentiment  \\\n",
              "0                 Y  positive   \n",
              "1                 Y   neutral   \n",
              "2                 Y   neutral   \n",
              "3                 Y  positive   \n",
              "4                 Y  positive   \n",
              "\n",
              "                             cleaned_review_body_tot  \\\n",
              "0  highly unusual noir start really really dark g...   \n",
              "1  like reviewer got festivus pole think itll wor...   \n",
              "2  well im sure realize u previously used deluxe ...   \n",
              "3  perfect functionality check microwave model nu...   \n",
              "4                                           expected   \n",
              "\n",
              "                                 cleaned_review_body  \n",
              "0  highly unusual noir start really really dark g...  \n",
              "1  like reviewer got festivus pole think itll wor...  \n",
              "2  well im sure realize u previously used deluxe ...  \n",
              "3  perfect functionality check microwave model nu...  \n",
              "4                                           expected  "
            ],
            "text/html": [
              "\n",
              "  <div id=\"df-78c85e37-78b1-495c-ab5c-12fb52b4c1c7\" class=\"colab-df-container\">\n",
              "    <div>\n",
              "<style scoped>\n",
              "    .dataframe tbody tr th:only-of-type {\n",
              "        vertical-align: middle;\n",
              "    }\n",
              "\n",
              "    .dataframe tbody tr th {\n",
              "        vertical-align: top;\n",
              "    }\n",
              "\n",
              "    .dataframe thead th {\n",
              "        text-align: right;\n",
              "    }\n",
              "</style>\n",
              "<table border=\"1\" class=\"dataframe\">\n",
              "  <thead>\n",
              "    <tr style=\"text-align: right;\">\n",
              "      <th></th>\n",
              "      <th>review_body</th>\n",
              "      <th>review_headline</th>\n",
              "      <th>star_rating</th>\n",
              "      <th>verified_purchase</th>\n",
              "      <th>sentiment</th>\n",
              "      <th>cleaned_review_body_tot</th>\n",
              "      <th>cleaned_review_body</th>\n",
              "    </tr>\n",
              "  </thead>\n",
              "  <tbody>\n",
              "    <tr>\n",
              "      <th>0</th>\n",
              "      <td>A highly unusual noir that starts off really, ...</td>\n",
              "      <td>Outstanding noir</td>\n",
              "      <td>5</td>\n",
              "      <td>Y</td>\n",
              "      <td>positive</td>\n",
              "      <td>highly unusual noir start really really dark g...</td>\n",
              "      <td>highly unusual noir start really really dark g...</td>\n",
              "    </tr>\n",
              "    <tr>\n",
              "      <th>1</th>\n",
              "      <td>Like some other reviewers, I got this as a Fes...</td>\n",
              "      <td>Would have been perfect if I got what I ordered</td>\n",
              "      <td>3</td>\n",
              "      <td>Y</td>\n",
              "      <td>neutral</td>\n",
              "      <td>like reviewer got festivus pole think itll wor...</td>\n",
              "      <td>like reviewer got festivus pole think itll wor...</td>\n",
              "    </tr>\n",
              "    <tr>\n",
              "      <th>2</th>\n",
              "      <td>Well I'm sure that you realize by now that mos...</td>\n",
              "      <td>Switching from Deluxe to Elite in mid stream d...</td>\n",
              "      <td>3</td>\n",
              "      <td>Y</td>\n",
              "      <td>neutral</td>\n",
              "      <td>well im sure realize u previously used deluxe ...</td>\n",
              "      <td>well im sure realize u previously used deluxe ...</td>\n",
              "    </tr>\n",
              "    <tr>\n",
              "      <th>3</th>\n",
              "      <td>Perfect Functionality.  Check your Microwave m...</td>\n",
              "      <td>You spin me right round baby right round...</td>\n",
              "      <td>5</td>\n",
              "      <td>Y</td>\n",
              "      <td>positive</td>\n",
              "      <td>perfect functionality check microwave model nu...</td>\n",
              "      <td>perfect functionality check microwave model nu...</td>\n",
              "    </tr>\n",
              "    <tr>\n",
              "      <th>4</th>\n",
              "      <td>As expected.</td>\n",
              "      <td>Five Stars</td>\n",
              "      <td>5</td>\n",
              "      <td>Y</td>\n",
              "      <td>positive</td>\n",
              "      <td>expected</td>\n",
              "      <td>expected</td>\n",
              "    </tr>\n",
              "  </tbody>\n",
              "</table>\n",
              "</div>\n",
              "    <div class=\"colab-df-buttons\">\n",
              "\n",
              "  <div class=\"colab-df-container\">\n",
              "    <button class=\"colab-df-convert\" onclick=\"convertToInteractive('df-78c85e37-78b1-495c-ab5c-12fb52b4c1c7')\"\n",
              "            title=\"Convert this dataframe to an interactive table.\"\n",
              "            style=\"display:none;\">\n",
              "\n",
              "  <svg xmlns=\"http://www.w3.org/2000/svg\" height=\"24px\" viewBox=\"0 -960 960 960\">\n",
              "    <path d=\"M120-120v-720h720v720H120Zm60-500h600v-160H180v160Zm220 220h160v-160H400v160Zm0 220h160v-160H400v160ZM180-400h160v-160H180v160Zm440 0h160v-160H620v160ZM180-180h160v-160H180v160Zm440 0h160v-160H620v160Z\"/>\n",
              "  </svg>\n",
              "    </button>\n",
              "\n",
              "  <style>\n",
              "    .colab-df-container {\n",
              "      display:flex;\n",
              "      gap: 12px;\n",
              "    }\n",
              "\n",
              "    .colab-df-convert {\n",
              "      background-color: #E8F0FE;\n",
              "      border: none;\n",
              "      border-radius: 50%;\n",
              "      cursor: pointer;\n",
              "      display: none;\n",
              "      fill: #1967D2;\n",
              "      height: 32px;\n",
              "      padding: 0 0 0 0;\n",
              "      width: 32px;\n",
              "    }\n",
              "\n",
              "    .colab-df-convert:hover {\n",
              "      background-color: #E2EBFA;\n",
              "      box-shadow: 0px 1px 2px rgba(60, 64, 67, 0.3), 0px 1px 3px 1px rgba(60, 64, 67, 0.15);\n",
              "      fill: #174EA6;\n",
              "    }\n",
              "\n",
              "    .colab-df-buttons div {\n",
              "      margin-bottom: 4px;\n",
              "    }\n",
              "\n",
              "    [theme=dark] .colab-df-convert {\n",
              "      background-color: #3B4455;\n",
              "      fill: #D2E3FC;\n",
              "    }\n",
              "\n",
              "    [theme=dark] .colab-df-convert:hover {\n",
              "      background-color: #434B5C;\n",
              "      box-shadow: 0px 1px 3px 1px rgba(0, 0, 0, 0.15);\n",
              "      filter: drop-shadow(0px 1px 2px rgba(0, 0, 0, 0.3));\n",
              "      fill: #FFFFFF;\n",
              "    }\n",
              "  </style>\n",
              "\n",
              "    <script>\n",
              "      const buttonEl =\n",
              "        document.querySelector('#df-78c85e37-78b1-495c-ab5c-12fb52b4c1c7 button.colab-df-convert');\n",
              "      buttonEl.style.display =\n",
              "        google.colab.kernel.accessAllowed ? 'block' : 'none';\n",
              "\n",
              "      async function convertToInteractive(key) {\n",
              "        const element = document.querySelector('#df-78c85e37-78b1-495c-ab5c-12fb52b4c1c7');\n",
              "        const dataTable =\n",
              "          await google.colab.kernel.invokeFunction('convertToInteractive',\n",
              "                                                    [key], {});\n",
              "        if (!dataTable) return;\n",
              "\n",
              "        const docLinkHtml = 'Like what you see? Visit the ' +\n",
              "          '<a target=\"_blank\" href=https://colab.research.google.com/notebooks/data_table.ipynb>data table notebook</a>'\n",
              "          + ' to learn more about interactive tables.';\n",
              "        element.innerHTML = '';\n",
              "        dataTable['output_type'] = 'display_data';\n",
              "        await google.colab.output.renderOutput(dataTable, element);\n",
              "        const docLink = document.createElement('div');\n",
              "        docLink.innerHTML = docLinkHtml;\n",
              "        element.appendChild(docLink);\n",
              "      }\n",
              "    </script>\n",
              "  </div>\n",
              "\n",
              "\n",
              "<div id=\"df-d575a3ae-538e-47ef-b6c2-ca5a09a5b703\">\n",
              "  <button class=\"colab-df-quickchart\" onclick=\"quickchart('df-d575a3ae-538e-47ef-b6c2-ca5a09a5b703')\"\n",
              "            title=\"Suggest charts\"\n",
              "            style=\"display:none;\">\n",
              "\n",
              "<svg xmlns=\"http://www.w3.org/2000/svg\" height=\"24px\"viewBox=\"0 0 24 24\"\n",
              "     width=\"24px\">\n",
              "    <g>\n",
              "        <path d=\"M19 3H5c-1.1 0-2 .9-2 2v14c0 1.1.9 2 2 2h14c1.1 0 2-.9 2-2V5c0-1.1-.9-2-2-2zM9 17H7v-7h2v7zm4 0h-2V7h2v10zm4 0h-2v-4h2v4z\"/>\n",
              "    </g>\n",
              "</svg>\n",
              "  </button>\n",
              "\n",
              "<style>\n",
              "  .colab-df-quickchart {\n",
              "      --bg-color: #E8F0FE;\n",
              "      --fill-color: #1967D2;\n",
              "      --hover-bg-color: #E2EBFA;\n",
              "      --hover-fill-color: #174EA6;\n",
              "      --disabled-fill-color: #AAA;\n",
              "      --disabled-bg-color: #DDD;\n",
              "  }\n",
              "\n",
              "  [theme=dark] .colab-df-quickchart {\n",
              "      --bg-color: #3B4455;\n",
              "      --fill-color: #D2E3FC;\n",
              "      --hover-bg-color: #434B5C;\n",
              "      --hover-fill-color: #FFFFFF;\n",
              "      --disabled-bg-color: #3B4455;\n",
              "      --disabled-fill-color: #666;\n",
              "  }\n",
              "\n",
              "  .colab-df-quickchart {\n",
              "    background-color: var(--bg-color);\n",
              "    border: none;\n",
              "    border-radius: 50%;\n",
              "    cursor: pointer;\n",
              "    display: none;\n",
              "    fill: var(--fill-color);\n",
              "    height: 32px;\n",
              "    padding: 0;\n",
              "    width: 32px;\n",
              "  }\n",
              "\n",
              "  .colab-df-quickchart:hover {\n",
              "    background-color: var(--hover-bg-color);\n",
              "    box-shadow: 0 1px 2px rgba(60, 64, 67, 0.3), 0 1px 3px 1px rgba(60, 64, 67, 0.15);\n",
              "    fill: var(--button-hover-fill-color);\n",
              "  }\n",
              "\n",
              "  .colab-df-quickchart-complete:disabled,\n",
              "  .colab-df-quickchart-complete:disabled:hover {\n",
              "    background-color: var(--disabled-bg-color);\n",
              "    fill: var(--disabled-fill-color);\n",
              "    box-shadow: none;\n",
              "  }\n",
              "\n",
              "  .colab-df-spinner {\n",
              "    border: 2px solid var(--fill-color);\n",
              "    border-color: transparent;\n",
              "    border-bottom-color: var(--fill-color);\n",
              "    animation:\n",
              "      spin 1s steps(1) infinite;\n",
              "  }\n",
              "\n",
              "  @keyframes spin {\n",
              "    0% {\n",
              "      border-color: transparent;\n",
              "      border-bottom-color: var(--fill-color);\n",
              "      border-left-color: var(--fill-color);\n",
              "    }\n",
              "    20% {\n",
              "      border-color: transparent;\n",
              "      border-left-color: var(--fill-color);\n",
              "      border-top-color: var(--fill-color);\n",
              "    }\n",
              "    30% {\n",
              "      border-color: transparent;\n",
              "      border-left-color: var(--fill-color);\n",
              "      border-top-color: var(--fill-color);\n",
              "      border-right-color: var(--fill-color);\n",
              "    }\n",
              "    40% {\n",
              "      border-color: transparent;\n",
              "      border-right-color: var(--fill-color);\n",
              "      border-top-color: var(--fill-color);\n",
              "    }\n",
              "    60% {\n",
              "      border-color: transparent;\n",
              "      border-right-color: var(--fill-color);\n",
              "    }\n",
              "    80% {\n",
              "      border-color: transparent;\n",
              "      border-right-color: var(--fill-color);\n",
              "      border-bottom-color: var(--fill-color);\n",
              "    }\n",
              "    90% {\n",
              "      border-color: transparent;\n",
              "      border-bottom-color: var(--fill-color);\n",
              "    }\n",
              "  }\n",
              "</style>\n",
              "\n",
              "  <script>\n",
              "    async function quickchart(key) {\n",
              "      const quickchartButtonEl =\n",
              "        document.querySelector('#' + key + ' button');\n",
              "      quickchartButtonEl.disabled = true;  // To prevent multiple clicks.\n",
              "      quickchartButtonEl.classList.add('colab-df-spinner');\n",
              "      try {\n",
              "        const charts = await google.colab.kernel.invokeFunction(\n",
              "            'suggestCharts', [key], {});\n",
              "      } catch (error) {\n",
              "        console.error('Error during call to suggestCharts:', error);\n",
              "      }\n",
              "      quickchartButtonEl.classList.remove('colab-df-spinner');\n",
              "      quickchartButtonEl.classList.add('colab-df-quickchart-complete');\n",
              "    }\n",
              "    (() => {\n",
              "      let quickchartButtonEl =\n",
              "        document.querySelector('#df-d575a3ae-538e-47ef-b6c2-ca5a09a5b703 button');\n",
              "      quickchartButtonEl.style.display =\n",
              "        google.colab.kernel.accessAllowed ? 'block' : 'none';\n",
              "    })();\n",
              "  </script>\n",
              "</div>\n",
              "\n",
              "    </div>\n",
              "  </div>\n"
            ],
            "application/vnd.google.colaboratory.intrinsic+json": {
              "type": "dataframe",
              "variable_name": "df_balanced",
              "summary": "{\n  \"name\": \"df_balanced\",\n  \"rows\": 60000,\n  \"fields\": [\n    {\n      \"column\": \"review_body\",\n      \"properties\": {\n        \"dtype\": \"string\",\n        \"num_unique_values\": 57323,\n        \"samples\": [\n          \"A nice change from all the pop country, rock whatever being released today.  From a musicians point of view (that's me), I really enjoyed MOST of it.  I think if you a bluesy rock musician you will enjoy it also.\",\n          \"Excellent arrangements for strings and piano. Some truly brilliant and haunting tracks included here. Some very cinematic and familiar sounding.\",\n          \"The microphone itself was too heavy to be held upright from the stand. I tightened the screw to try to keep it in place better, but I ended up tearing the screw in half. Still a good microphone though.\"\n        ],\n        \"semantic_type\": \"\",\n        \"description\": \"\"\n      }\n    },\n    {\n      \"column\": \"review_headline\",\n      \"properties\": {\n        \"dtype\": \"string\",\n        \"num_unique_values\": 45409,\n        \"samples\": [\n          \"Great concept poor quality\",\n          \"a little mustard seed, a great song\",\n          \"2 of 5\"\n        ],\n        \"semantic_type\": \"\",\n        \"description\": \"\"\n      }\n    },\n    {\n      \"column\": \"star_rating\",\n      \"properties\": {\n        \"dtype\": \"number\",\n        \"std\": 1,\n        \"min\": 1,\n        \"max\": 5,\n        \"num_unique_values\": 5,\n        \"samples\": [\n          3,\n          4,\n          1\n        ],\n        \"semantic_type\": \"\",\n        \"description\": \"\"\n      }\n    },\n    {\n      \"column\": \"verified_purchase\",\n      \"properties\": {\n        \"dtype\": \"category\",\n        \"num_unique_values\": 2,\n        \"samples\": [\n          \"N\",\n          \"Y\"\n        ],\n        \"semantic_type\": \"\",\n        \"description\": \"\"\n      }\n    },\n    {\n      \"column\": \"sentiment\",\n      \"properties\": {\n        \"dtype\": \"category\",\n        \"num_unique_values\": 3,\n        \"samples\": [\n          \"positive\",\n          \"neutral\"\n        ],\n        \"semantic_type\": \"\",\n        \"description\": \"\"\n      }\n    },\n    {\n      \"column\": \"cleaned_review_body_tot\",\n      \"properties\": {\n        \"dtype\": \"string\",\n        \"num_unique_values\": 56380,\n        \"samples\": [\n          \"keeping close ear studio killer allowing u never top amap im okay think ill enjoying quite whilebr br sez mr msd\",\n          \"werent already aware purchasing office 365 subscription based service application way install latest microsoft office product mac microsofts onetime purchase option thing like microsoft office home student 2013 microsoft office home business 2013 compatible mac osbr br meanbr br microsoft office home student 139 onetime purchase httpsmileamazoncomdpb00b1tgumgbr microsoft home business 2013 219 onetime purchase httpsmileamazoncomdpb00b1tgmisbr br buy product forever like software purchase year past designed window machinesbr br comparatively get product mac must use microsoft office 365 6999year every year keep software operational long desirebr br math 4 year time spent 280 microsoft office 365 mac pc user spent 139 front able keep software foreverbr br something consider purchasing office 365 university subscription offered deep discount microsoft 7999 4 year subscription missing feature available microsoft office 365 subscription additionally 4 year longer use office 365 university must begin paying 6999 per year office 365 personal 9999 per year office 365 home get expensive time food thoughtbr br microsoft choose omit onetime purchase option mac user sure kind upsetting id rather pay larger amount upfront keep thing spend money long id like\"\n        ],\n        \"semantic_type\": \"\",\n        \"description\": \"\"\n      }\n    },\n    {\n      \"column\": \"cleaned_review_body\",\n      \"properties\": {\n        \"dtype\": \"string\",\n        \"num_unique_values\": 56380,\n        \"samples\": [\n          \"keeping close ear studio killer allowing u never top amap im okay think ill enjoying quite whilebr br sez mr msd\",\n          \"werent already aware purchasing office 365 subscription based service application way install latest microsoft office product mac microsofts onetime purchase option thing like microsoft office home student 2013 microsoft office home business 2013 compatible mac osbr br meanbr br microsoft office home student 139 onetime purchase httpsmileamazoncomdpb00b1tgumgbr microsoft home business 2013 219 onetime purchase httpsmileamazoncomdpb00b1tgmisbr br buy product forever like software purchase year past designed window machinesbr br comparatively get product mac must use microsoft office 365 6999year every year keep software operational long desirebr br math 4 year time spent 280 microsoft office 365 mac pc user spent 139 front able keep software foreverbr br something consider purchasing office 365 university subscription offered deep discount microsoft 7999 4 year subscription missing feature available microsoft office 365 subscription additionally 4 year longer use office 365 university must begin paying 6999 per year office 365 personal 9999 per year office 365 home get expensive time food thoughtbr br microsoft choose omit onetime purchase option mac user sure kind upsetting id rather pay larger amount upfront keep thing spend money long id like\"\n        ],\n        \"semantic_type\": \"\",\n        \"description\": \"\"\n      }\n    }\n  ]\n}"
            }
          },
          "metadata": {},
          "execution_count": 156
        }
      ]
    },
    {
      "cell_type": "markdown",
      "source": [
        "################################################################################\n",
        "\n",
        "**IMPORT OF THE DATASET FOR THE PROFESSOR**"
      ],
      "metadata": {
        "id": "ka8UA00LMm-K"
      }
    },
    {
      "cell_type": "code",
      "source": [
        "#run the below row to import the dataset\n",
        "df_balanced = pd.read_csv(\"df_balanced.csv\", sep='\\t', on_bad_lines='skip')"
      ],
      "metadata": {
        "id": "_aRlxg6IMKf2"
      },
      "execution_count": null,
      "outputs": []
    },
    {
      "cell_type": "markdown",
      "source": [
        "################################################################################"
      ],
      "metadata": {
        "id": "dxfbLw5fMyv1"
      }
    },
    {
      "cell_type": "code",
      "source": [
        "df_balanced.shape"
      ],
      "metadata": {
        "id": "sCxirVyQUyRi",
        "outputId": "70e23779-8f89-438a-d320-c554876633e6",
        "colab": {
          "base_uri": "https://localhost:8080/"
        }
      },
      "execution_count": null,
      "outputs": [
        {
          "output_type": "execute_result",
          "data": {
            "text/plain": [
              "(60000, 6)"
            ]
          },
          "metadata": {},
          "execution_count": 150
        }
      ]
    },
    {
      "cell_type": "code",
      "source": [
        "\"\"\"df_balanced.to_csv('my_dataframe.csv', index=False)\n",
        "\n",
        "files.download('my_dataframe.csv')\"\"\""
      ],
      "metadata": {
        "colab": {
          "base_uri": "https://localhost:8080/",
          "height": 35
        },
        "id": "GUzycFTOZ4MZ",
        "outputId": "ece2ed34-c5dc-4a17-8e27-8039f7ded43b"
      },
      "execution_count": null,
      "outputs": [
        {
          "output_type": "execute_result",
          "data": {
            "text/plain": [
              "\"df_balanced.to_csv('my_dataframe.csv', index=False)\\n\\nfiles.download('my_dataframe.csv')\""
            ],
            "application/vnd.google.colaboratory.intrinsic+json": {
              "type": "string"
            }
          },
          "metadata": {},
          "execution_count": 151
        }
      ]
    },
    {
      "cell_type": "code",
      "source": [
        "X = df_balanced['cleaned_review_body']\n",
        "y = df_balanced['sentiment']\n",
        "\n",
        "X_train, X_test, y_train, y_test = train_test_split(X, y, test_size=0.2, random_state=42, stratify=y)\n",
        "\n",
        "print(\"Train set shape:\", X_train.shape, y_train.shape)\n",
        "print(\"Test set shape:\", X_test.shape, y_test.shape)"
      ],
      "metadata": {
        "colab": {
          "base_uri": "https://localhost:8080/"
        },
        "id": "bmu8NwDnnah1",
        "outputId": "a5b394ed-1ef3-4ba7-ba88-cd0fb041b1a9"
      },
      "execution_count": null,
      "outputs": [
        {
          "output_type": "stream",
          "name": "stdout",
          "text": [
            "Train set shape: (48000,) (48000,)\n",
            "Test set shape: (12000,) (12000,)\n"
          ]
        }
      ]
    },
    {
      "cell_type": "code",
      "source": [
        "total_memory_bytes = df_balanced.memory_usage(deep=True).sum()\n",
        "\n",
        "total_memory_kb = total_memory_bytes / 1024\n",
        "total_memory_mb = total_memory_kb / 1024\n",
        "total_memory_gb = total_memory_mb / 1024\n",
        "\n",
        "print(f\"Total memory usage: {total_memory_bytes} bytes\")\n",
        "print(f\"Total memory usage: {total_memory_kb:.2f} KB\")\n",
        "print(f\"Total memory usage: {total_memory_mb:.2f} MB\")\n",
        "print(f\"Total memory usage: {total_memory_gb:.2f} GB\")"
      ],
      "metadata": {
        "colab": {
          "base_uri": "https://localhost:8080/"
        },
        "id": "zsdM6doLrIPc",
        "outputId": "74970049-74c4-4c48-b2f1-821459990a60"
      },
      "execution_count": null,
      "outputs": [
        {
          "output_type": "stream",
          "name": "stdout",
          "text": [
            "Total memory usage: 83781768 bytes\n",
            "Total memory usage: 81818.13 KB\n",
            "Total memory usage: 79.90 MB\n",
            "Total memory usage: 0.08 GB\n"
          ]
        }
      ]
    },
    {
      "cell_type": "markdown",
      "source": [],
      "metadata": {
        "id": "DeRPE8pqcPzI"
      }
    },
    {
      "cell_type": "markdown",
      "source": [
        "## Logistic Regression"
      ],
      "metadata": {
        "id": "8pBuJBFLfU4N"
      }
    },
    {
      "cell_type": "code",
      "source": [
        "pd.set_option('display.max_columns', None)"
      ],
      "metadata": {
        "id": "h5e7FUZ2fQZ_"
      },
      "execution_count": null,
      "outputs": []
    },
    {
      "cell_type": "code",
      "source": [
        "vectorizer = TfidfVectorizer(max_features=5000)\n",
        "X_train_tfidf = vectorizer.fit_transform(X_train)\n",
        "X_test_tfidf = vectorizer.transform(X_test)\n",
        "\n",
        "model = LogisticRegression(max_iter=1000)\n",
        "model.fit(X_train_tfidf, y_train)\n",
        "\n",
        "y_pred = model.predict(X_test_tfidf)\n",
        "accuracy = accuracy_score(y_test, y_pred)\n",
        "report = classification_report(y_test, y_pred)"
      ],
      "metadata": {
        "id": "JRjdMcN05Qau"
      },
      "execution_count": null,
      "outputs": []
    },
    {
      "cell_type": "code",
      "source": [
        "print(\"\\nLogistic Regression Model Evaluation\")\n",
        "print(f\"Accuracy: {accuracy:.4f}\")\n",
        "print(\"Classification Report:\")\n",
        "print(report)"
      ],
      "metadata": {
        "colab": {
          "base_uri": "https://localhost:8080/"
        },
        "id": "UFVTICbE5ZXc",
        "outputId": "816752a7-2d7d-46f9-b1c0-a0c357f502fc"
      },
      "execution_count": null,
      "outputs": [
        {
          "output_type": "stream",
          "name": "stdout",
          "text": [
            "\n",
            "Logistic Regression Model Evaluation\n",
            "Accuracy: 0.6856\n",
            "Classification Report:\n",
            "              precision    recall  f1-score   support\n",
            "\n",
            "    negative       0.71      0.72      0.71      4000\n",
            "     neutral       0.60      0.57      0.58      4000\n",
            "    positive       0.75      0.77      0.76      4000\n",
            "\n",
            "    accuracy                           0.69     12000\n",
            "   macro avg       0.68      0.69      0.68     12000\n",
            "weighted avg       0.68      0.69      0.68     12000\n",
            "\n"
          ]
        }
      ]
    },
    {
      "cell_type": "markdown",
      "source": [
        "##Bert"
      ],
      "metadata": {
        "id": "Foco6ad4vDcV"
      }
    },
    {
      "cell_type": "code",
      "source": [
        "X_train = X_train.astype(str).tolist()\n",
        "X_test = X_test.astype(str).tolist()"
      ],
      "metadata": {
        "id": "6FboumKi2j5b"
      },
      "execution_count": null,
      "outputs": []
    },
    {
      "cell_type": "code",
      "source": [
        "tokenizer = BertTokenizer.from_pretrained('bert-base-uncased')\n",
        "\n",
        "def tokenize_text(text_list):\n",
        "    if not all(isinstance(text, str) for text in text_list):\n",
        "        raise ValueError(\"All items in the text_list should be strings.\")\n",
        "    return tokenizer(text_list, padding=True, truncation=True, return_tensors='pt')\n",
        "\n",
        "try:\n",
        "    train_encodings = tokenize_text(X_train)\n",
        "    test_encodings = tokenize_text(X_test)\n",
        "except ValueError as e:\n",
        "    print(f\"Error in tokenization: {e}\")\n",
        "    raise"
      ],
      "metadata": {
        "id": "usdMKt1D2j83"
      },
      "execution_count": null,
      "outputs": []
    },
    {
      "cell_type": "code",
      "source": [
        "label_map = {'negative': 0, 'neutral': 1, 'positive': 2}\n",
        "train_labels = torch.tensor([label_map[label] for label in y_train])\n",
        "test_labels = torch.tensor([label_map[label] for label in y_test])\n",
        "\n",
        "train_dataset = TensorDataset(train_encodings['input_ids'], train_encodings['attention_mask'], train_labels)\n",
        "test_dataset = TensorDataset(test_encodings['input_ids'], test_encodings['attention_mask'], test_labels)\n",
        "\n",
        "train_loader = DataLoader(train_dataset, batch_size=16, shuffle=True)\n",
        "test_loader = DataLoader(test_dataset, batch_size=16)"
      ],
      "metadata": {
        "id": "HbocmGtj2kCL"
      },
      "execution_count": null,
      "outputs": []
    },
    {
      "cell_type": "code",
      "source": [
        "model = BertForSequenceClassification.from_pretrained('bert-base-uncased', num_labels=3)\n",
        "\n",
        "optimizer = AdamW(model.parameters(), lr=2e-5)\n",
        "total_steps = len(train_loader) * 5\n",
        "scheduler = get_linear_schedule_with_warmup(optimizer, num_warmup_steps=0, num_training_steps=total_steps)\n",
        "\n",
        "scaler = GradScaler()\n",
        "gradient_accumulation_steps = 2\n",
        "\n",
        "gpu_usage = []\n",
        "time_elapsed = []"
      ],
      "metadata": {
        "id": "YszvpiKS2kFq"
      },
      "execution_count": null,
      "outputs": []
    },
    {
      "cell_type": "code",
      "source": [
        "def train(model, train_loader, optimizer, scheduler, scaler, gradient_accumulation_steps):\n",
        "    model.train()\n",
        "    total_loss = 0\n",
        "    optimizer.zero_grad()\n",
        "    start_time = time.time()\n",
        "\n",
        "    for step, batch in enumerate(train_loader):\n",
        "        input_ids, attention_mask, labels = batch\n",
        "        input_ids = input_ids.to('cuda')\n",
        "        attention_mask = attention_mask.to('cuda')\n",
        "        labels = labels.to('cuda')\n",
        "        with autocast():\n",
        "            outputs = model(input_ids, attention_mask=attention_mask, labels=labels)\n",
        "            loss = outputs.loss\n",
        "            loss = loss / gradient_accumulation_steps\n",
        "        scaler.scale(loss).backward()\n",
        "\n",
        "        if (step + 1) % gradient_accumulation_steps == 0:\n",
        "            scaler.step(optimizer)\n",
        "            scaler.update()\n",
        "            scheduler.step()\n",
        "            optimizer.zero_grad()\n",
        "\n",
        "        total_loss += loss.item() * gradient_accumulation_steps\n",
        "\n",
        "        gpu_usage.append(torch.cuda.memory_allocated())\n",
        "        time_elapsed.append(time.time() - start_time)\n",
        "\n",
        "    return total_loss / len(train_loader)\n",
        "\n",
        "def evaluate(model, test_loader):\n",
        "    model.eval()\n",
        "    preds = []\n",
        "    true_labels = []\n",
        "    with torch.no_grad():\n",
        "        for batch in test_loader:\n",
        "            input_ids, attention_mask, labels = batch\n",
        "            input_ids = input_ids.to('cuda')\n",
        "            attention_mask = attention_mask.to('cuda')\n",
        "            labels = labels.to('cuda')\n",
        "            outputs = model(input_ids, attention_mask=attention_mask)\n",
        "            logits = outputs.logits\n",
        "            preds.extend(torch.argmax(logits, dim=1).tolist())\n",
        "            true_labels.extend(labels.tolist())\n",
        "    return preds, true_labels\n",
        "\n",
        "model.to('cuda')"
      ],
      "metadata": {
        "id": "HKnntJMe2_og"
      },
      "execution_count": null,
      "outputs": []
    },
    {
      "cell_type": "code",
      "source": [
        "epochs = 5\n",
        "for epoch in range(epochs):\n",
        "    train_loss = train(model, train_loader, optimizer, scheduler, scaler, gradient_accumulation_steps)\n",
        "    print(f'Epoch {epoch+1}/{epochs}, Loss: {train_loss}')\n",
        "    torch.cuda.empty_cache()"
      ],
      "metadata": {
        "id": "HXdFEaoF3Grh"
      },
      "execution_count": null,
      "outputs": []
    },
    {
      "cell_type": "code",
      "source": [
        "preds, true_labels = evaluate(model, test_loader)\n",
        "\n",
        "accuracy = accuracy_score(true_labels, preds)\n",
        "precision, recall, f1, _ = precision_recall_fscore_support(true_labels, preds, average='weighted')\n",
        "report = classification_report(true_labels, preds, target_names=['negative', 'neutral', 'positive'])\n",
        "\n",
        "print(f'Test Accuracy: {accuracy}')\n",
        "print(f'Precision: {precision}')\n",
        "print(f'Recall: {recall}')\n",
        "print(f'F1 Score: {f1}')\n",
        "print(report)"
      ],
      "metadata": {
        "id": "XNCGAtTQ3GvA"
      },
      "execution_count": null,
      "outputs": []
    },
    {
      "cell_type": "code",
      "source": [
        "plt.figure(figsize=(10, 5))\n",
        "plt.plot(time_elapsed, gpu_usage, label='GPU Usage (bytes)')\n",
        "plt.xlabel('Time (seconds)')\n",
        "plt.ylabel('GPU Usage (bytes)')\n",
        "plt.title('GPU Usage vs Time')\n",
        "plt.legend()\n",
        "plt.show()\n"
      ],
      "metadata": {
        "id": "sUpi8c0xdOgG"
      },
      "execution_count": null,
      "outputs": []
    },
    {
      "cell_type": "markdown",
      "source": [
        "# VADER"
      ],
      "metadata": {
        "id": "IeqQv0Uh0JAA"
      }
    },
    {
      "cell_type": "code",
      "source": [
        "sia = SentimentIntensityAnalyzer()"
      ],
      "metadata": {
        "id": "hIYkd-xN0OMS"
      },
      "execution_count": null,
      "outputs": []
    },
    {
      "cell_type": "code",
      "source": [
        "def analyze_sentiments(df, columns):\n",
        "    sid_obj = SentimentIntensityAnalyzer()\n",
        "\n",
        "    def sentiment_scores(sentence):\n",
        "        sentiment_dict = sid_obj.polarity_scores(sentence)\n",
        "        if sentiment_dict['compound'] >= 0.05:\n",
        "            return \"positive\"\n",
        "        elif sentiment_dict['compound'] <= -0.05:\n",
        "            return \"negative\"\n",
        "        else:\n",
        "            return \"neutral\"\n",
        "\n",
        "    metrics = {}\n",
        "\n",
        "    for column in columns:\n",
        "        print(f\"Processing column: {column}\")\n",
        "\n",
        "        if isinstance(df[column].iloc[0], list):\n",
        "            df[column] = df[column].apply(lambda x: ' '.join(x))\n",
        "\n",
        "        tqdm.pandas(desc=f\"Sentiment Analysis for {column}\")\n",
        "        df[f'sentiment_new_{column}'] = df[column].progress_apply(sentiment_scores)\n",
        "\n",
        "        if 'sentiment' in df.columns:\n",
        "            y_true = df['sentiment']\n",
        "            y_pred = df[f'sentiment_new_{column}']\n",
        "\n",
        "            accuracy = accuracy_score(y_true, y_pred)\n",
        "            precision = precision_score(y_true, y_pred, average='macro', zero_division=0)\n",
        "            recall = recall_score(y_true, y_pred, average='macro', zero_division=0)\n",
        "            f1 = f1_score(y_true, y_pred, average='macro', zero_division=0)\n",
        "\n",
        "            metrics[column] = {\n",
        "                'accuracy': accuracy,\n",
        "                'precision': precision,\n",
        "                'recall': recall,\n",
        "                'f1_score': f1\n",
        "            }\n",
        "\n",
        "            print(f\"Metrics for {column}:\")\n",
        "            print(f\"Accuracy: {accuracy}\")\n",
        "            print(f\"Precision: {precision}\")\n",
        "            print(f\"Recall: {recall}\")\n",
        "            print(f\"F1 Score: {f1}\")\n",
        "\n",
        "    return metrics, df"
      ],
      "metadata": {
        "id": "jua67CNm1ssc"
      },
      "execution_count": null,
      "outputs": []
    },
    {
      "cell_type": "code",
      "source": [
        "columns_to_analyze = ['cleaned_review_body']\n",
        "metrics, df = analyze_sentiments(df_balanced, columns_to_analyze)"
      ],
      "metadata": {
        "colab": {
          "base_uri": "https://localhost:8080/"
        },
        "id": "OlPHAxbUYJHL",
        "outputId": "4ff987bf-e6f8-48ef-b1c6-b7926901480a"
      },
      "execution_count": null,
      "outputs": [
        {
          "output_type": "stream",
          "name": "stdout",
          "text": [
            "Processing column: cleaned_review_body\n"
          ]
        },
        {
          "output_type": "stream",
          "name": "stderr",
          "text": [
            "Sentiment Analysis for cleaned_review_body: 100%|██████████| 60000/60000 [01:00<00:00, 987.08it/s] \n"
          ]
        },
        {
          "output_type": "stream",
          "name": "stdout",
          "text": [
            "Metrics for cleaned_review_body:\n",
            "Accuracy: 0.4465\n",
            "Precision: 0.4570499807343811\n",
            "Recall: 0.44649999999999995\n",
            "F1 Score: 0.382407801167977\n"
          ]
        }
      ]
    },
    {
      "cell_type": "code",
      "source": [
        "df_balanced.head()"
      ],
      "metadata": {
        "id": "Yp057skvrJGe"
      },
      "execution_count": null,
      "outputs": []
    },
    {
      "cell_type": "markdown",
      "source": [
        "# Roberta Pretrained Model"
      ],
      "metadata": {
        "id": "s7JjJbLg2jls"
      }
    },
    {
      "cell_type": "code",
      "source": [
        "X_train = X_train.astype(str).tolist()\n",
        "X_test = X_test.astype(str).tolist()"
      ],
      "metadata": {
        "id": "rhxtQB_X6chY"
      },
      "execution_count": null,
      "outputs": []
    },
    {
      "cell_type": "code",
      "source": [
        "tokenizer = RobertaTokenizer.from_pretrained('roberta-base')\n",
        "\n",
        "def tokenize_text(text_list):\n",
        "    if not all(isinstance(text, str) for text in text_list):\n",
        "        raise ValueError(\"All items in the text_list should be strings.\")\n",
        "    return tokenizer(text_list, padding=True, truncation=True, return_tensors='pt')\n",
        "\n",
        "try:\n",
        "    train_encodings = tokenize_text(X_train)\n",
        "    test_encodings = tokenize_text(X_test)\n",
        "except ValueError as e:\n",
        "    print(f\"Error in tokenization: {e}\")\n",
        "    raise"
      ],
      "metadata": {
        "id": "UZUNcVbK6ifX"
      },
      "execution_count": null,
      "outputs": []
    },
    {
      "cell_type": "code",
      "source": [
        "label_map = {'negative': 0, 'neutral': 1, 'positive': 2}\n",
        "train_labels = torch.tensor([label_map[label] for label in y_train])\n",
        "test_labels = torch.tensor([label_map[label] for label in y_test])\n",
        "\n",
        "train_dataset = TensorDataset(train_encodings['input_ids'], train_encodings['attention_mask'], train_labels)\n",
        "test_dataset = TensorDataset(test_encodings['input_ids'], test_encodings['attention_mask'], test_labels)\n",
        "\n",
        "train_loader = DataLoader(train_dataset, batch_size=16, shuffle=True)\n",
        "test_loader = DataLoader(test_dataset, batch_size=16)"
      ],
      "metadata": {
        "id": "zA51P7Kv6qNY"
      },
      "execution_count": null,
      "outputs": []
    },
    {
      "cell_type": "code",
      "source": [
        "model = RobertaForSequenceClassification.from_pretrained('roberta-base', num_labels=3)\n",
        "\n",
        "optimizer = AdamW(model.parameters(), lr=2e-5)\n",
        "total_steps = len(train_loader) * 5\n",
        "scheduler = get_linear_schedule_with_warmup(optimizer, num_warmup_steps=0, num_training_steps=total_steps)\n",
        "\n",
        "scaler = GradScaler()\n",
        "gradient_accumulation_steps = 2"
      ],
      "metadata": {
        "id": "9wPvJBN66zTi"
      },
      "execution_count": null,
      "outputs": []
    },
    {
      "cell_type": "code",
      "source": [
        "def train(model, train_loader, optimizer, scheduler, scaler, gradient_accumulation_steps):\n",
        "    model.train()\n",
        "    total_loss = 0\n",
        "    optimizer.zero_grad()\n",
        "    start_time = time.time()\n",
        "\n",
        "    for step, batch in enumerate(train_loader):\n",
        "        input_ids, attention_mask, labels = batch\n",
        "        input_ids = input_ids.to('cuda')\n",
        "        attention_mask = attention_mask.to('cuda')\n",
        "        labels = labels.to('cuda')\n",
        "        with autocast():\n",
        "            outputs = model(input_ids, attention_mask=attention_mask, labels=labels)\n",
        "            loss = outputs.loss\n",
        "            loss = loss / gradient_accumulation_steps\n",
        "        scaler.scale(loss).backward()\n",
        "\n",
        "        if (step + 1) % gradient_accumulation_steps == 0:\n",
        "            scaler.step(optimizer)\n",
        "            scaler.update()\n",
        "            scheduler.step()\n",
        "            optimizer.zero_grad()\n",
        "\n",
        "        total_loss += loss.item() * gradient_accumulation_steps\n",
        "\n",
        "        gpu_usage.append(torch.cuda.memory_allocated())\n",
        "        time_elapsed.append(time.time() - start_time)\n",
        "\n",
        "    return total_loss / len(train_loader)\n",
        "\n",
        "def evaluate(model, test_loader):\n",
        "    model.eval()\n",
        "    preds = []\n",
        "    true_labels = []\n",
        "    with torch.no_grad():\n",
        "        for batch in test_loader:\n",
        "            input_ids, attention_mask, labels = batch\n",
        "            input_ids = input_ids.to('cuda')\n",
        "            attention_mask = attention_mask.to('cuda')\n",
        "            labels = labels.to('cuda')\n",
        "            outputs = model(input_ids, attention_mask=attention_mask)\n",
        "            logits = outputs.logits\n",
        "            preds.extend(torch.argmax(logits, dim=1).tolist())\n",
        "            true_labels.extend(labels.tolist())\n",
        "    return preds, true_labels\n",
        "\n",
        "model.to('cuda')"
      ],
      "metadata": {
        "id": "LFqPvnBf5yav"
      },
      "execution_count": null,
      "outputs": []
    },
    {
      "cell_type": "code",
      "source": [
        "epochs = 5\n",
        "for epoch in range(epochs):\n",
        "    train_loss = train(model, train_loader, optimizer, scheduler, scaler, gradient_accumulation_steps)\n",
        "    print(f'Epoch {epoch+1}/{epochs}, Loss: {train_loss}')\n",
        "    torch.cuda.empty_cache()\n"
      ],
      "metadata": {
        "id": "zgcxdWXl5yeP"
      },
      "execution_count": null,
      "outputs": []
    },
    {
      "cell_type": "code",
      "source": [
        "preds, true_labels = evaluate(model, test_loader)\n",
        "\n",
        "accuracy = accuracy_score(true_labels, preds)\n",
        "precision, recall, f1, _ = precision_recall_fscore_support(true_labels, preds, average='weighted')\n",
        "report = classification_report(true_labels, preds, target_names=['negative', 'neutral', 'positive'])\n",
        "\n",
        "\n",
        "print(f'Test Accuracy: {accuracy}')\n",
        "print(f'Precision: {precision}')\n",
        "print(f'Recall: {recall}')\n",
        "print(f'F1 Score: {f1}')\n",
        "print(report)"
      ],
      "metadata": {
        "id": "Sv-hAIPXGaSM"
      },
      "execution_count": null,
      "outputs": []
    },
    {
      "cell_type": "markdown",
      "source": [
        "Epoch 1/5, Loss: 0.7050733156204224\n",
        "\n",
        "Epoch 2/5, Loss: 0.5843052413463593\n",
        "\n",
        "Epoch 3/5, Loss: 0.49785546310742695\n",
        "\n",
        "Epoch 4/5, Loss: 0.4113095966180166\n",
        "\n",
        "Epoch 5/5, Loss: 0.3352125936746597\n",
        "\n",
        "Test Accuracy: 0.745\n",
        "\n",
        "                  precision    recall  f1-score   support\n",
        "\n",
        "    negative        0.79      0.72      0.75      4000\n",
        "    neutral         0.64      0.69      0.66      4000\n",
        "    positive        0.81      0.83      0.82      4000\n",
        "\n",
        "    accuracy                            0.74     12000\n",
        "    macro avg       0.75      0.74      0.75     12000\n",
        "    weighted avg    0.75      0.74      0.75     12000\n"
      ],
      "metadata": {
        "id": "8COJqa2Y7BOq"
      }
    },
    {
      "cell_type": "code",
      "source": [
        "plt.figure(figsize=(10, 5))\n",
        "plt.plot(time_elapsed, gpu_usage, label='GPU Usage (bytes)')\n",
        "plt.xlabel('Time (seconds)')\n",
        "plt.ylabel('GPU Usage (bytes)')\n",
        "plt.title('GPU Usage vs Time')\n",
        "plt.legend()\n",
        "plt.show()"
      ],
      "metadata": {
        "id": "xXrOvvI0GaVl"
      },
      "execution_count": null,
      "outputs": []
    }
  ]
}